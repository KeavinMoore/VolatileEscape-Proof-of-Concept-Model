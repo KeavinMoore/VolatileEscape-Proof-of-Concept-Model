{
 "cells": [
  {
   "cell_type": "code",
   "execution_count": 1,
   "metadata": {},
   "outputs": [],
   "source": [
    "#JUST LOSS, NO CYCLING NEXT\n",
    "\n",
    "# Need to check what happens to the mantle temperature when cycling + atmospheric loss is turned off.\n",
    "#XXX Mantle temp should be coupled and self-consistent.\n",
    "# If it looks the same as the cycling + loss simulations, something is wrong with the definition in the code. XXX"
   ]
  },
  {
   "cell_type": "markdown",
   "metadata": {},
   "source": [
    "# NOTE!!!!\n",
    "## (np.exp(lnfugacity(x,temp)/np.exp(lnfugacity(1,T_ref)))) in place of (np.exp(lnfugacity(x,temp))/(np.exp(lnfugacity(1,T_ref)))) in many places of Tad's code (i.e., f_wtwid not being calculated correctly) --> This is fixed in my recoded version"
   ]
  },
  {
   "cell_type": "code",
   "execution_count": 2,
   "metadata": {},
   "outputs": [
    {
     "name": "stdout",
     "output_type": "stream",
     "text": [
      "Populating the interactive namespace from numpy and matplotlib\n"
     ]
    }
   ],
   "source": [
    "%pylab inline\n",
    "import math\n",
    "import numpy as np\n",
    "import scipy\n",
    "import matplotlib\n",
    "import matplotlib.pyplot as plt\n",
    "import matplotlib.cm as cm\n",
    "from pylab import *\n",
    "from scipy.integrate import ode"
   ]
  },
  {
   "cell_type": "code",
   "execution_count": 3,
   "metadata": {},
   "outputs": [],
   "source": [
    "# Cycling and atmospheric loss switches. -- MUST BE INITIALIZED HERE, OR CODE WON'T RUN.\n",
    "# 0. = OFF, 1. = ON\n",
    "\n",
    "atmos_loss = 0. #0., 1. \n",
    "cycling = 1. #0., 1."
   ]
  },
  {
   "cell_type": "code",
   "execution_count": 4,
   "metadata": {},
   "outputs": [],
   "source": [
    "M_E = 5.972e24\n",
    "R_E = 6.371e6\n",
    "x_h = 0.05\n",
    "rho_c = 3.e3\n",
    "chi = 0.23\n",
    "d_hE = 3e3\n",
    "rho_m = 3.3e3\n",
    "d_melt = 60.e3\n",
    "f_degasE = 0.9\n",
    "G = 6.67e-11\n",
    "P_E = 4.e7\n",
    "f_M = 0.68\n",
    "f_b = 0.9\n",
    "omega_0 = 2.3e-4\n",
    "f_btwid = 1.3\n",
    "year = 3.154e+7\n",
    "omg_Etwid = 6.2e-4/2.3e-4 # from CA2014: omega/omega_0"
   ]
  },
  {
   "cell_type": "code",
   "execution_count": 5,
   "metadata": {},
   "outputs": [],
   "source": [
    "#print 5.8e-4*f_M/(omega_0*f_btwid)"
   ]
  },
  {
   "cell_type": "code",
   "execution_count": 6,
   "metadata": {},
   "outputs": [],
   "source": [
    "gamma = rho_m*d_melt*f_degasE*omega_0*f_btwid/(x_h*rho_c*chi*d_hE*f_M)\n",
    "tau = M_E*omega_0*f_btwid/(1.5*2.*math.pi*R_E*0.1/year*x_h*rho_c*chi*d_hE)\n",
    "#print tau/(1.e9*year)"
   ]
  },
  {
   "cell_type": "markdown",
   "metadata": {},
   "source": [
    "### Convection scheme (standard boundary-layer, no core)"
   ]
  },
  {
   "cell_type": "code",
   "execution_count": 7,
   "metadata": {},
   "outputs": [],
   "source": [
    "E_a = 335.e3\n",
    "R_g = 8.314\n",
    "alpha = 2.e-5\n",
    "Ra_c = 1100.\n",
    "kappa = 1.e-6\n",
    "T_ref = 1600.\n",
    "#eta_0 = 1.e21\n",
    "#eta_0 = 1.e16\n",
    "k = 4.2\n",
    "beta = 0.3\n",
    "c_p = 1200.\n",
    "Q_0 = 5.e-8\n",
    "year = 3.154e+7"
   ]
  },
  {
   "cell_type": "code",
   "execution_count": 8,
   "metadata": {},
   "outputs": [],
   "source": [
    "def Rp(M):\n",
    "    return R_E*(M/M_E)**(0.27)\n",
    "def Rc(M): \n",
    "    return .547*R_E*(M/M_E)**(0.247)\n",
    "def h(M):\n",
    "    return Rp(M)-Rc(M)\n",
    "def V(M):\n",
    "    return 4./3.*math.pi*(Rp(M)**3. - Rc(M)**3.)\n",
    "def A(M):\n",
    "    return 4.*math.pi*Rp(M)**2.\n",
    "def rho_av(M):\n",
    "    return (M-(0.3259*M))/V(M)\n",
    "def g(M):\n",
    "    return G*M/(Rp(M)**2.)\n",
    "def gtwid(M):\n",
    "    return g(M)/9.8"
   ]
  },
  {
   "cell_type": "code",
   "execution_count": 9,
   "metadata": {},
   "outputs": [
    {
     "name": "stdout",
     "output_type": "stream",
     "text": [
      "6371000.0\n"
     ]
    }
   ],
   "source": [
    "print(Rp(M_E))"
   ]
  },
  {
   "cell_type": "code",
   "execution_count": 10,
   "metadata": {},
   "outputs": [
    {
     "name": "stdout",
     "output_type": "stream",
     "text": [
      "9.034775470293381e+24\n"
     ]
    }
   ],
   "source": [
    "C0 = -7.9859\n",
    "C1 = 4.3559\n",
    "C2 = -0.5742\n",
    "C3 = 0.0337\n",
    "f_M = 0.68\n",
    "f_btwid = 1.3\n",
    "omega_0 = 2.3e-4\n",
    "M_oliv = 153.31\n",
    "M_wat = 18.01528\n",
    "x_fact = (omega_0*f_btwid)/f_M\n",
    "B = M_oliv/M_wat*x_fact\n",
    "def lnfugacity(x,temp):\n",
    "    y = np.log(2.e6*x*B/(1.-(x*B)))\n",
    "    return C0 + C1*y + C2*y**2 + C3*y**3\n",
    "#nonlinear eta\n",
    "r_fug=1.\n",
    "eta_scale = (np.exp(lnfugacity(1,T_ref)))**(-r_fug)\n",
    "eta_0 = 1.e21/eta_scale\n",
    "#eta_0 = 1.e21\n",
    "print(eta_0)\n",
    "#print eta_scale"
   ]
  },
  {
   "cell_type": "code",
   "execution_count": 11,
   "metadata": {},
   "outputs": [],
   "source": [
    "#other eta param -- CYCLES ALL WATER OUT OF MANTLE, DOESN'T GO BACK IN --\n",
    "# NOT IN TAD'S CODE FOR PAPER, SO COMMENTED OUT\n",
    "#C0 = -7.9859\n",
    "#C1 = 4.3559\n",
    "#C2 = -0.5742\n",
    "#C3 = 0.0337\n",
    "#f_M = 0.68\n",
    "#f_btwid = 1.3\n",
    "#omega_0 = 2.3e-4\n",
    "#M_oliv = 153.31\n",
    "#M_wat = 18.01528\n",
    "#A_w = 26.\n",
    "#E_w = 40.e3\n",
    "#x_fact = (omega_0*f_btwid)/f_M\n",
    "#B = M_oliv/M_wat*x_fact\n",
    "#def lnfugacity(x,temp):\n",
    "#    C = x*B/(1.-(x*B))\n",
    "#    return np.log(C/A_w*np.exp(E_w/(R_g*T_ref*temp)))\n",
    "#    #y = np.log(2.e6*x*B/(1.-(x*B)))\n",
    "#    #return C0 + C1*y + C2*y**2 + C3*y**3\n",
    "##nonlinear eta\n",
    "#r=1.\n",
    "#eta_scale = (np.exp(lnfugacity(1.,T_ref)))**(-r)\n",
    "#eta_0 = 1.e21/eta_scale\n",
    "##eta_0 = 1.e21\n",
    "##print eta_0\n",
    "##print eta_scale"
   ]
  },
  {
   "cell_type": "code",
   "execution_count": 12,
   "metadata": {},
   "outputs": [],
   "source": [
    "# Calculate the mantle viscosity, to be plotted for comparison.\n",
    "# It is parameterized as \"eta\" in Komacek & Abbot (2016).\n",
    "\n",
    "def eta(x_twid, T_twid): #x and T are non-dimensionalized later in code -- need to add dimensions back for these calculations\n",
    "    E_a = 335.0e3\n",
    "    R_g = R_g = 8.314\n",
    "    r_fug = 1.\n",
    "    eta_scale = (np.exp(lnfugacity(1.,T_ref)))**(-r_fug)\n",
    "    eta_0 = 1.e21/eta_scale\n",
    "    \n",
    "    \n",
    "    x = x_twid * 2.3e-4 * 1.3 / 0.68 # mantle water mass fraction\n",
    "    T = T_twid * 1600 #[K]\n",
    "    \n",
    "    y = np.exp(lnfugacity(x, T))\n",
    "    \n",
    "    return eta_0 * (y**(-r_fug)) * np.exp((E_a/R_g)*((1./T) - (1./T_ref)))"
   ]
  },
  {
   "cell_type": "code",
   "execution_count": 13,
   "metadata": {},
   "outputs": [
    {
     "name": "stdout",
     "output_type": "stream",
     "text": [
      "1.3717129498740124e+26\n"
     ]
    }
   ],
   "source": [
    "print(eta(1.32, 1.))"
   ]
  },
  {
   "cell_type": "code",
   "execution_count": 14,
   "metadata": {},
   "outputs": [],
   "source": [
    "# Atmospheric loss ON/OFF -- now with a switch!\n",
    "\n",
    "def f_omegatwid(x_twid, M, t):\n",
    "    if atmos_loss == 0.:\n",
    "        return omg_Etwid/(f_btwid)\n",
    "    \n",
    "    else:\n",
    "        # Calculate mass of water in mantle, total mass of water\n",
    "        M_w_mantle = x_twid * 2.3e-4 * 1.3 * M\n",
    "        M_w_i = (omg_Etwid/f_btwid) * 2.3e-4 * 1.3 * M\n",
    "    \n",
    "        # Calculate water on surface, and remove a small amount.\n",
    "        M_w_surf = (M_w_i - M_w_mantle) - 1e19*t #1e19*t is safe -- roughly 1 TO lost over simulations\n",
    "    \n",
    "        # Recalculate omega after some water has been lost, and omegatwid (which is the function output).\n",
    "        M_w_f = M_w_surf + M_w_mantle\n",
    "   \n",
    "        return (M_w_f / M) / (2.3e-4 * 1.3)"
   ]
  },
  {
   "cell_type": "code",
   "execution_count": 15,
   "metadata": {},
   "outputs": [],
   "source": [
    "def tau_1_inv(M): #1/tau = 1/tau_CA in paper\n",
    "    return M*omega_0*f_btwid/(1.5*2.*math.pi*R_E*0.1/year*x_h*rho_c*chi*d_hE)\n",
    "def omega(M): #F_0 in paper\n",
    "    return k*T_ref**(1.+beta)*A(M)/(h(M)*V(M))*(alpha*rho_m*g(M)*h(M)**3.*np.exp(lnfugacity(1,T_ref))/(Ra_c*kappa*eta_0))**(beta)\n",
    "def tau_2_inv(M):\n",
    "    return rho_m*c_p*T_ref/omega(M)\n",
    "def Q_0twid(M):\n",
    "    return Q_0/omega(M)\n",
    "def taudecaytwid(M):\n",
    "    return 2.e9*year/tau_2_inv(M)\n",
    "def Qtwid(t,M):\n",
    "    return math.exp(-t/taudecaytwid(M))\n",
    "T_s = 280.\n",
    "T_stwid = T_s/T_ref\n",
    "T_mtwid = T_ref*R_g/(E_a)\n",
    "#print tau_1_inv(M_E)/(3.156e7*1.e9)\n",
    "#print tau_2_inv(M_E)/(3.156e7*1.e9)\n",
    "def tau_2_inv_re(M):\n",
    "    return rho_m*c_p*T_ref/Q_0\n",
    "#print tau_2_inv_re(M_E)/(3.156e7*1.e9)"
   ]
  },
  {
   "cell_type": "code",
   "execution_count": 16,
   "metadata": {},
   "outputs": [
    {
     "name": "stdout",
     "output_type": "stream",
     "text": [
      "1.0\n",
      "1.8830689892047734\n",
      "0.5310479890714485\n"
     ]
    }
   ],
   "source": [
    "t = 0.\n",
    "print(math.exp(-t/(2.e9*year/(rho_m*c_p*T_ref/omega(M_E)))))\n",
    "print(Q_0twid(M_E)*Qtwid(t,M_E))\n",
    "print(omega(M_E)/5e-8)"
   ]
  },
  {
   "cell_type": "code",
   "execution_count": 17,
   "metadata": {},
   "outputs": [
    {
     "name": "stdout",
     "output_type": "stream",
     "text": [
      "2.8732400081113805\n",
      "7565710282.562742\n"
     ]
    }
   ],
   "source": [
    "print(tau_1_inv(M_E)/year/1e9)\n",
    "print(tau_2_inv(M_E)/year)\n",
    "x = 1.035\n",
    "temp = 2.\n",
    "t = 0.\n",
    "#print(tau_1_inv(M_E)/tau_2_inv(M_E)*Q_0twid(M)*Qtwid(t,M))\n",
    "#print(tau_1_inv(M_E)/tau_2_inv(M_E)*((np.exp(lnfugacity(x,temp))/np.exp(lnfugacity(1,T_ref)))**(beta)*(temp - T_stwid)**(beta+1.)*math.exp(-beta/T_mtwid*((1./temp) - 1.))))"
   ]
  },
  {
   "cell_type": "code",
   "execution_count": 18,
   "metadata": {},
   "outputs": [],
   "source": [
    "def f_conv_water(t,temp,x,M):\n",
    "    return Q_0twid(M)*Qtwid(t,M) - ((np.exp(lnfugacity(x,temp))/np.exp(lnfugacity(1,T_ref)))**(beta)*(temp - T_stwid)**(beta+1.)*math.exp(-beta/T_mtwid*((1./temp) - 1.)))"
   ]
  },
  {
   "cell_type": "code",
   "execution_count": 19,
   "metadata": {},
   "outputs": [
    {
     "name": "stdout",
     "output_type": "stream",
     "text": [
      "1.8830689892047734\n"
     ]
    }
   ],
   "source": [
    "print(Q_0twid(M_E)*Qtwid(0.,M_E))"
   ]
  },
  {
   "cell_type": "code",
   "execution_count": 20,
   "metadata": {},
   "outputs": [
    {
     "name": "stdout",
     "output_type": "stream",
     "text": [
      "-0.00036394173013660174\n",
      "0.715135652271409\n",
      "37.10930866593158\n"
     ]
    },
    {
     "ename": "NameError",
     "evalue": "name 'T_array_CA' is not defined",
     "output_type": "error",
     "traceback": [
      "\u001b[0;31m---------------------------------------------------------------------------\u001b[0m",
      "\u001b[0;31mNameError\u001b[0m                                 Traceback (most recent call last)",
      "\u001b[0;32m<ipython-input-20-854438248b9b>\u001b[0m in \u001b[0;36m<module>\u001b[0;34m()\u001b[0m\n\u001b[1;32m      2\u001b[0m \u001b[0mprint\u001b[0m\u001b[0;34m(\u001b[0m\u001b[0mtau_1_inv\u001b[0m\u001b[0;34m(\u001b[0m\u001b[0mM_E\u001b[0m\u001b[0;34m)\u001b[0m\u001b[0;34m/\u001b[0m\u001b[0mtau_2_inv\u001b[0m\u001b[0;34m(\u001b[0m\u001b[0mM_E\u001b[0m\u001b[0;34m)\u001b[0m\u001b[0;34m*\u001b[0m\u001b[0mQ_0twid\u001b[0m\u001b[0;34m(\u001b[0m\u001b[0mM_E\u001b[0m\u001b[0;34m)\u001b[0m\u001b[0;34m*\u001b[0m\u001b[0mQtwid\u001b[0m\u001b[0;34m(\u001b[0m\u001b[0;36m0.\u001b[0m\u001b[0;34m,\u001b[0m \u001b[0mM_E\u001b[0m\u001b[0;34m)\u001b[0m\u001b[0;34m)\u001b[0m\u001b[0;34m\u001b[0m\u001b[0m\n\u001b[1;32m      3\u001b[0m \u001b[0mprint\u001b[0m\u001b[0;34m(\u001b[0m\u001b[0mtau_1_inv\u001b[0m\u001b[0;34m(\u001b[0m\u001b[0mM_E\u001b[0m\u001b[0;34m)\u001b[0m\u001b[0;34m/\u001b[0m\u001b[0mtau_2_inv\u001b[0m\u001b[0;34m(\u001b[0m\u001b[0mM_E\u001b[0m\u001b[0;34m)\u001b[0m\u001b[0;34m*\u001b[0m\u001b[0;34m(\u001b[0m\u001b[0mnp\u001b[0m\u001b[0;34m.\u001b[0m\u001b[0mexp\u001b[0m\u001b[0;34m(\u001b[0m\u001b[0mlnfugacity\u001b[0m\u001b[0;34m(\u001b[0m\u001b[0;36m1.035\u001b[0m\u001b[0;34m,\u001b[0m\u001b[0;36m2.\u001b[0m\u001b[0;34m)\u001b[0m\u001b[0;34m)\u001b[0m\u001b[0;34m/\u001b[0m\u001b[0mnp\u001b[0m\u001b[0;34m.\u001b[0m\u001b[0mexp\u001b[0m\u001b[0;34m(\u001b[0m\u001b[0mlnfugacity\u001b[0m\u001b[0;34m(\u001b[0m\u001b[0;36m1\u001b[0m\u001b[0;34m,\u001b[0m\u001b[0mT_ref\u001b[0m\u001b[0;34m)\u001b[0m\u001b[0;34m)\u001b[0m\u001b[0;34m)\u001b[0m\u001b[0;34m**\u001b[0m\u001b[0;34m(\u001b[0m\u001b[0mbeta\u001b[0m\u001b[0;34m)\u001b[0m\u001b[0;34m*\u001b[0m\u001b[0;34m(\u001b[0m\u001b[0;36m2.\u001b[0m \u001b[0;34m-\u001b[0m \u001b[0mT_stwid\u001b[0m\u001b[0;34m)\u001b[0m\u001b[0;34m**\u001b[0m\u001b[0;34m(\u001b[0m\u001b[0mbeta\u001b[0m\u001b[0;34m+\u001b[0m\u001b[0;36m1.\u001b[0m\u001b[0;34m)\u001b[0m\u001b[0;34m*\u001b[0m\u001b[0mmath\u001b[0m\u001b[0;34m.\u001b[0m\u001b[0mexp\u001b[0m\u001b[0;34m(\u001b[0m\u001b[0;34m-\u001b[0m\u001b[0mbeta\u001b[0m\u001b[0;34m/\u001b[0m\u001b[0mT_mtwid\u001b[0m\u001b[0;34m*\u001b[0m\u001b[0;34m(\u001b[0m\u001b[0;34m(\u001b[0m\u001b[0;36m1.\u001b[0m\u001b[0;34m/\u001b[0m\u001b[0;36m2.\u001b[0m\u001b[0;34m)\u001b[0m \u001b[0;34m-\u001b[0m \u001b[0;36m1.\u001b[0m\u001b[0;34m)\u001b[0m\u001b[0;34m)\u001b[0m\u001b[0;34m)\u001b[0m\u001b[0;34m\u001b[0m\u001b[0m\n\u001b[0;32m----> 4\u001b[0;31m \u001b[0mprint\u001b[0m\u001b[0;34m(\u001b[0m\u001b[0mT_array_CA\u001b[0m\u001b[0;34m[\u001b[0m\u001b[0;36m0\u001b[0m\u001b[0;34m]\u001b[0m\u001b[0;34m-\u001b[0m\u001b[0;36m2.\u001b[0m\u001b[0;34m)\u001b[0m\u001b[0;34m\u001b[0m\u001b[0m\n\u001b[0m",
      "\u001b[0;31mNameError\u001b[0m: name 'T_array_CA' is not defined"
     ]
    }
   ],
   "source": [
    "print(tau_1_inv(M_E)/tau_2_inv(M_E)*f_conv_water(0.,2.,1.035,M_E)*1e-5)\n",
    "print(tau_1_inv(M_E)/tau_2_inv(M_E)*Q_0twid(M_E)*Qtwid(0., M_E))\n",
    "print(tau_1_inv(M_E)/tau_2_inv(M_E)*(np.exp(lnfugacity(1.035,2.))/np.exp(lnfugacity(1,T_ref)))**(beta)*(2. - T_stwid)**(beta+1.)*math.exp(-beta/T_mtwid*((1./2.) - 1.)))\n",
    "#print(T_array_CA[0]-2.)"
   ]
  },
  {
   "cell_type": "code",
   "execution_count": 21,
   "metadata": {},
   "outputs": [
    {
     "name": "stdout",
     "output_type": "stream",
     "text": [
      "1.9035737334703298\n"
     ]
    }
   ],
   "source": [
    "print(-0.000693219276325435/-0.0003641672839547194)"
   ]
  },
  {
   "cell_type": "markdown",
   "metadata": {},
   "source": [
    "### Water cycling scheme (from S+S)"
   ]
  },
  {
   "cell_type": "code",
   "execution_count": 22,
   "metadata": {},
   "outputs": [],
   "source": [
    "#constants\n",
    "K_cnst = 43.\n",
    "gamma_cnst = 0.75\n",
    "f_M = 0.68\n",
    "theta_cnst = 1.5\n",
    "Ktwid = K_cnst/T_ref\n",
    "lambda_twid = Ktwid*(omega_0*f_btwid/f_M)**(gamma_cnst)\n",
    "chi_r = 0.03\n",
    "chi_d = 0.02\n",
    "T_serp = 973.\n",
    "#use more realistic values of liquidus and solidus later!!!\n",
    "T_liq = 1225.+273.15\n",
    "T_sol = 975.+273.15\n",
    "T_liqtwid = T_liq/T_ref\n",
    "T_soltwid = T_sol/T_ref\n",
    "def L_MOR(M):\n",
    "    return 1.5*2.*math.pi*Rp(M)"
   ]
  },
  {
   "cell_type": "code",
   "execution_count": 23,
   "metadata": {},
   "outputs": [],
   "source": [
    "N = rho_m*d_melt*chi_d*omega_0*f_btwid/f_M*(T_liqtwid-T_soltwid)**(-theta_cnst) #Pi in paper\n",
    "def Pi(M): #D in paper\n",
    "    return x_h*rho_c*chi_r*h(M)**(1.-3.*beta)*(T_serp-T_s)/(T_ref**(1.+beta))*(kappa*Ra_c*eta_0/(alpha*rho_m*g(M)*(np.exp(lnfugacity(1.,T_ref)))))**(beta)\n",
    "def Ntwid(M): #Pitwid in paper\n",
    "    return N/Pi(M)\n",
    "def Sigma(M):\n",
    "    return M*omega_0*f_btwid*h(M)**(1.-6.*beta)*kappa**(2.*beta-1)/(10.76*L_MOR(M))*(Ra_c*eta_0/(alpha*rho_m*g(M)*T_ref*(np.exp(lnfugacity(1.,T_ref)))))**(2.*beta)\n",
    "#def tau_4_inv(M): #Not actually used -- redefined later.\n",
    "#    return Sigma(M)/Pi(M)\n",
    "#print tau_4_inv(M_E)/(3.156e7*1.e9)"
   ]
  },
  {
   "cell_type": "code",
   "execution_count": 24,
   "metadata": {},
   "outputs": [],
   "source": [
    "# Not actually used -- redefined below.\n",
    "\n",
    "#def f_M_feed(t,temp,x,M): #water cycling OFF\n",
    "#    \n",
    "#    if cycling == 0.:\n",
    "#        return 0.\n",
    "#    \n",
    "#    else:\n",
    "#        return (np.exp(lnfugacity(x,temp))/(np.exp(lnfugacity(1.,T_ref))))**(beta)*(temp-T_stwid)**(beta-1)*np.exp(-beta/T_mtwid*((1./temp)-1.)) - Ntwid(M)*(np.exp(lnfugacity(x,temp))/(np.exp(lnfugacity(1.,T_ref))))**(2.*beta)*(temp-T_stwid)**(2.*beta)*np.exp(-2.*beta/T_mtwid*((1./temp)-1.))*x*(temp-T_soltwid+lambda_twid*x**(gamma_cnst))**(theta_cnst)"
   ]
  },
  {
   "cell_type": "code",
   "execution_count": 25,
   "metadata": {},
   "outputs": [],
   "source": [
    "#Not actually used -- redefined below.\n",
    "\n",
    "#def f_all_wat_feed(t,z,M):\n",
    "#    temp = z[0]\n",
    "#    x = z[1]\n",
    "#    return [tau_1_inv(M)/tau_2_inv(M)*f_conv_water(t,temp,x,M),tau_1_inv(M)/tau_4_inv(M)*f_M_feed(t,temp,x,M)]\n"
   ]
  },
  {
   "cell_type": "markdown",
   "metadata": {},
   "source": [
    "### Now add hydrated layer depth check"
   ]
  },
  {
   "cell_type": "code",
   "execution_count": 26,
   "metadata": {},
   "outputs": [],
   "source": [
    "N = rho_m*d_melt*chi_d*omega_0*f_btwid/f_M*(T_liqtwid-T_soltwid)**(-theta_cnst) #Pi in paper\n",
    "def Pi(M): #D in paper\n",
    "    return x_h*rho_c*chi_r*h(M)**(1.-3.*beta)*(T_serp-T_s)/(T_ref**(1.+beta))*(kappa*Ra_c*eta_0/(alpha*rho_m*g(M)*(np.exp(lnfugacity(1.,T_ref)))))**(beta)\n",
    "def Pitwid(M): #1/Pitwid in paper\n",
    "    return Pi(M)/N #D/Pi in paper\n",
    "def Sigma(M):\n",
    "    return M*omega_0*f_btwid*h(M)**(1.-6.*beta)*kappa**(2.*beta-1)/(10.76*L_MOR(M))*(Ra_c*eta_0/(alpha*rho_m*g(M)*T_ref*(np.exp(lnfugacity(1.,T_ref)))))**(2.*beta)\n",
    "def tau_4_inv(M):\n",
    "    return Sigma(M)/N #Sigma/Pi in paper\n",
    "#print tau_4_inv(M_E)/(3.156e7*1.e9)"
   ]
  },
  {
   "cell_type": "code",
   "execution_count": 74,
   "metadata": {},
   "outputs": [
    {
     "name": "stdout",
     "output_type": "stream",
     "text": [
      "28192.099695026962\n",
      "277731.95400914253\n",
      "1.944439094682716e+22\n",
      "0.10150830427707616\n"
     ]
    }
   ],
   "source": [
    "#print((tau_1_inv(M_E)/tau_2_inv(M_E))/(3.156e7*1.e9))\n",
    "#print((Sigma(M_E)/Pi(M_E))/(3.156e7*1.e9))\n",
    "print(N)\n",
    "print(Pi(M_E))\n",
    "print(Sigma(M_E))\n",
    "print(1./Pitwid(M))"
   ]
  },
  {
   "cell_type": "code",
   "execution_count": 28,
   "metadata": {},
   "outputs": [],
   "source": [
    "def Pi_2(M): #D2 in paper\n",
    "    return h(M)**(1.-3.*beta)*(T_serp-T_s)/(T_ref**(1.+beta))*(kappa*Ra_c*eta_0/(alpha*rho_m*g(M)*(np.exp(lnfugacity(1,T_ref)))))**(beta)\n",
    "def Pi_2_1(t,temp,x,M): #D2_max*x_h*rho_c*chi_r in paper\n",
    "    return x_h*rho_c*chi_r*(Rp(M)-(Rp(M)**3. - 3./4.*omega_0*f_btwid*M*(f_omegatwid(x,M,t)-x)/(math.pi*x_h*rho_m))**(1./3.))*np.exp(-beta/T_mtwid*((1./temp)-1))*(np.exp(lnfugacity(x,temp)/np.exp(lnfugacity(1,T_ref))))**(beta)*(temp-T_stwid)**(1.+beta)\n",
    "Pi_c = 0.\n",
    "def f_M_feed(t,temp,x,M): \n",
    "    \n",
    "    if cycling == 0.: #water cycling OFF\n",
    "        return 0.\n",
    "    \n",
    "    else:\n",
    "        if temp-T_soltwid+lambda_twid*x**(gamma_cnst) > 0.:\n",
    "            if 4./3.*math.pi*x_h*rho_m*(Rp(M)**3.-(Rp(M) - Pi_2(M)*np.exp(beta/T_mtwid*((1./temp)-1))*(np.exp(lnfugacity(x,temp)/np.exp(lnfugacity(1,T_ref))))**(-beta)*(temp-T_stwid)**(-(1.+beta)))**3.) <= M*omega_0*f_btwid*(f_omegatwid(x,M,t)-x) and (f_omegatwid(x,M,t) - x) > 0:\n",
    "                return Pitwid(M)*(np.exp(lnfugacity(x,temp))/(np.exp(lnfugacity(1,T_ref))))**(beta)*(temp-T_stwid)**(beta-1)*np.exp(-beta/T_mtwid*((1./temp)-1.)) - (np.exp(lnfugacity(x,temp))/(np.exp(lnfugacity(1,T_ref))))**(2.*beta)*(temp-T_stwid)**(2.*beta)*np.exp(-2.*beta/T_mtwid*((1./temp)-1.))*x*(temp-T_soltwid+lambda_twid*x**(gamma_cnst))**(theta_cnst)\n",
    "            elif 4./3.*math.pi*x_h*rho_m*(Rp(M)**3.-(Rp(M) - Pi_2(M)*np.exp(beta/T_mtwid*((1./temp)-1))*(np.exp(lnfugacity(x,temp)/np.exp(lnfugacity(1,T_ref))))**(-beta)*(temp-T_stwid)**(-(1.+beta)))**3.) > M*omega_0*f_btwid*(f_omegatwid(x,M,t)-x) and (f_omegatwid(x,M,t) - x) > 0:\n",
    "                return Pi_2_1(t,temp,x,M)/N*(np.exp(lnfugacity(x,temp))/(np.exp(lnfugacity(1,T_ref))))**(beta)*(temp-T_stwid)**(beta-1)*np.exp(-beta/T_mtwid*((1./temp)-1.)) - (np.exp(lnfugacity(x,temp))/(np.exp(lnfugacity(1,T_ref))))**(2.*beta)*(temp-T_stwid)**(2.*beta)*np.exp(-2.*beta/T_mtwid*((1./temp)-1.))*x*(temp-T_soltwid+lambda_twid*x**(gamma_cnst))**(theta_cnst)\n",
    "            elif (f_omegatwid(x,M,t) - x) <= 0:\n",
    "                return Pi_c/N*(np.exp(lnfugacity(x,temp))/(np.exp(lnfugacity(1,T_ref))))**(beta)*(temp-T_stwid)**(beta-1)*np.exp(-beta/T_mtwid*((1./temp)-1.)) - (np.exp(lnfugacity(x,temp))/(np.exp(lnfugacity(1,T_ref))))**(2.*beta)*(temp-T_stwid)**(2.*beta)*np.exp(-2.*beta/T_mtwid*((1./temp)-1.))*x*(temp-T_soltwid+lambda_twid*x**(gamma_cnst))**(theta_cnst)\n",
    "        else:\n",
    "            if 4./3.*math.pi*x_h*rho_m*(Rp(M)**3.-(Rp(M) - Pi_2(M)*np.exp(beta/T_mtwid*((1./temp)-1))*(np.exp(lnfugacity(x,temp)/np.exp(lnfugacity(1,T_ref))))**(-beta)*(temp-T_stwid)**(-(1.+beta)))**3.) <= M*omega_0*f_btwid*(f_omegatwid(x,M,t)-x) and (f_omegatwid(x,M,t) - x) > 0:\n",
    "                return Pitwid(M)*(np.exp(lnfugacity(x,temp))/(np.exp(lnfugacity(1,T_ref))))**(beta)*(temp-T_stwid)**(beta-1)*np.exp(-beta/T_mtwid*((1./temp)-1.)) - (np.exp(lnfugacity(x,temp))/(np.exp(lnfugacity(1,T_ref))))**(2.*beta)*(temp-T_stwid)**(2.*beta)*np.exp(-2.*beta/T_mtwid*((1./temp)-1.))*x*(0.)**(theta_cnst)\n",
    "            elif 4./3.*math.pi*x_h*rho_m*(Rp(M)**3.-(Rp(M) - Pi_2(M)*np.exp(beta/T_mtwid*((1./temp)-1))*(np.exp(lnfugacity(x,temp)/np.exp(lnfugacity(1,T_ref))))**(-beta)*(temp-T_stwid)**(-(1.+beta)))**3.) > M*omega_0*f_btwid*(f_omegatwid(x,M,t)-x) and (f_omegatwid(x,M,t) - x) > 0:\n",
    "                return Pi_2_1(t,temp,x,M)/N*(np.exp(lnfugacity(x,temp))/(np.exp(lnfugacity(1,T_ref))))**(beta)*(temp-T_stwid)**(beta-1)*np.exp(-beta/T_mtwid*((1./temp)-1.)) - (np.exp(lnfugacity(x,temp))/(np.exp(lnfugacity(1,T_ref))))**(2.*beta)*(temp-T_stwid)**(2.*beta)*np.exp(-2.*beta/T_mtwid*((1./temp)-1.))*x*(0.)**1.5\n",
    "            elif (f_omegatwid(x,M,t) - x) <= 0:\n",
    "                return Pi_c/N*(np.exp(lnfugacity(x,temp))/(np.exp(lnfugacity(1,T_ref))))**(beta)*(temp-T_stwid)**(beta-1)*np.exp(-beta/T_mtwid*((1./temp)-1.)) - (np.exp(lnfugacity(x,temp))/(np.exp(lnfugacity(1,T_ref))))**(2.*beta)*(temp-T_stwid)**(2.*beta)*np.exp(-2.*beta/T_mtwid*((1./temp)-1.))*x*(0.)**(theta_cnst)"
   ]
  },
  {
   "cell_type": "code",
   "execution_count": 75,
   "metadata": {},
   "outputs": [
    {
     "name": "stdout",
     "output_type": "stream",
     "text": [
      "0.002969676995424255\n",
      "61718.21200203167\n",
      "9493321.912944062\n"
     ]
    }
   ],
   "source": [
    "#print(1./Pitwid(M_E))\n",
    "print(N/(Pi_2_1(0.,2.,omegatwid/2.,M_E)))\n",
    "print(Pi_2(M_E))\n",
    "print(Pi_2_1(0.,2.,omegatwid/2.,M_E))"
   ]
  },
  {
   "cell_type": "code",
   "execution_count": 80,
   "metadata": {},
   "outputs": [
    {
     "name": "stdout",
     "output_type": "stream",
     "text": [
      "9493321.912944062\n",
      "1.0367892976588629\n",
      "1.0367892976588629 0.05 3000.0 0.03 6371000.0 0.00023 1.3 3300.0 0.039708656716417906 0.3 0.175\n"
     ]
    }
   ],
   "source": [
    "print(Pi_2_1(0.,2.,omegatwid/2.,M_E))\n",
    "print(f_omegatwid(omegatwid/2.,M_E,0.)-omegatwid/2.)\n",
    "print(omegatwid/2.,x_h, rho_c, chi_r, Rp(M_E), omega_0, f_btwid, rho_m, T_mtwid, beta, T_stwid)"
   ]
  },
  {
   "cell_type": "code",
   "execution_count": 83,
   "metadata": {},
   "outputs": [
    {
     "name": "stdout",
     "output_type": "stream",
     "text": [
      "22073.848635260016\n",
      "95.57133088225949\n"
     ]
    }
   ],
   "source": [
    "print((Rp(M)-(Rp(M)**3. - 3./4.*omega_0*f_btwid*M*(omegatwid/2.)/(math.pi*x_h*rho_m))**(1./3.)))\n",
    "print(np.exp(-beta/T_mtwid*((1./2.)-1))*(np.exp(lnfugacity(omegatwid/2.,2.)/np.exp(lnfugacity(1,T_ref))))**(beta)*(2.-T_stwid)**(1.+beta))\n",
    "print(beta, T_mtwid, (np.exp(lnfugacity(omegatwid/2.,2.)/np.exp(lnfugacity(1,T_ref)), T_stwid)"
   ]
  },
  {
   "cell_type": "code",
   "execution_count": 30,
   "metadata": {},
   "outputs": [],
   "source": [
    "def dhydr_real_SS(t,temp,x,M):\n",
    "    if 4./3.*math.pi*x_h*rho_m*(Rp(M)**3.-(Rp(M) - Pi_2(M)*np.exp(beta/T_mtwid*((1./temp)-1))*(np.exp(lnfugacity(x,temp)/np.exp(lnfugacity(1,T_ref))))**(-beta)*(temp-T_stwid)**(-(1.+beta)))**3.) <= M*omega_0*f_btwid*(f_omegatwid(x,M,t)-x) and (f_omegatwid(x,M,t) - x) > 0:\n",
    "        return Pi_2(M)*np.exp(beta/T_mtwid*((1./temp)-1))*(np.exp(lnfugacity(x,temp)/np.exp(lnfugacity(1.,T_ref))))**(-beta)*(temp-T_stwid)**(-(1.+beta))\n",
    "    elif 4./3.*math.pi*x_h*rho_m*(Rp(M)**3.-(Rp(M) - Pi_2(M)*np.exp(beta/T_mtwid*((1./temp)-1))*(np.exp(lnfugacity(x,temp)/np.exp(lnfugacity(1,T_ref))))**(-beta)*(temp-T_stwid)**(-(1.+beta)))**3.) > M*omega_0*f_btwid*(f_omegatwid(x,M,t)-x) and (f_omegatwid(x,M,t) - x) > 0:\n",
    "        return Pi_2_1(t,temp,x,M)/(x_h*rho_c*chi_r)*np.exp(beta/T_mtwid*((1./temp)-1))*(np.exp(lnfugacity(x,temp)/np.exp(lnfugacity(1.,T_ref))))**(-beta)*(temp-T_stwid)**(-(1.+beta))"
   ]
  },
  {
   "cell_type": "code",
   "execution_count": 31,
   "metadata": {},
   "outputs": [],
   "source": [
    "def f_M_feed_in(t,temp,x,M): \n",
    "    \n",
    "    if cycling == 0.: #water cycling OFF\n",
    "        return 0.\n",
    "    \n",
    "    else:\n",
    "        if temp-T_soltwid+lambda_twid*x**(gamma_cnst) > 0.:\n",
    "            if 4./3.*math.pi*x_h*rho_m*(Rp(M)**3.-(Rp(M) - Pi_2(M)*np.exp(beta/T_mtwid*((1./temp)-1))*(np.exp(lnfugacity(x,temp)/np.exp(lnfugacity(1,T_ref))))**(-beta)*(temp-T_stwid)**(-(1.+beta)))**3.) <= M*omega_0*f_btwid*(f_omegatwid(x,M,t)-x) and (f_omegatwid(x,M,t) - x) > 0:\n",
    "                return Pitwid(M)*(np.exp(lnfugacity(x,temp))/(np.exp(lnfugacity(1,T_ref))))**(beta)*(temp-T_stwid)**(beta-1)*np.exp(-beta/T_mtwid*((1./temp)-1.))\n",
    "            elif 4./3.*math.pi*x_h*rho_m*(Rp(M)**3.-(Rp(M) - Pi_2(M)*np.exp(beta/T_mtwid*((1./temp)-1))*(np.exp(lnfugacity(x,temp)/np.exp(lnfugacity(1,T_ref))))**(-beta)*(temp-T_stwid)**(-(1.+beta)))**3.) > M*omega_0*f_btwid*(f_omegatwid(x,M,t)-x) and (f_omegatwid(x,M,t) - x) > 0:\n",
    "                return Pi_2_1(t,temp,x,M)/N*(np.exp(lnfugacity(x,temp))/(np.exp(lnfugacity(1,T_ref))))**(beta)*(temp-T_stwid)**(beta-1)*np.exp(-beta/T_mtwid*((1./temp)-1.))\n",
    "            elif (f_omegatwid(x,M,t) - x) <= 0:\n",
    "                return Pi_c/N*(np.exp(lnfugacity(x,temp))/(np.exp(lnfugacity(1,T_ref))))**(beta)*(temp-T_stwid)**(beta-1)*np.exp(-beta/T_mtwid*((1./temp)-1.))\n",
    "        else:\n",
    "            if 4./3.*math.pi*x_h*rho_m*(Rp(M)**3.-(Rp(M) - Pi_2(M)*np.exp(beta/T_mtwid*((1./temp)-1))*(np.exp(lnfugacity(x,temp)/np.exp(lnfugacity(1,T_ref))))**(-beta)*(temp-T_stwid)**(-(1.+beta)))**3.) <= M*omega_0*f_btwid*(f_omegatwid(x,M,t)-x) and (f_omegatwid(x,M,t) - x) > 0:\n",
    "                return Pitwid(M)*(np.exp(lnfugacity(x,temp))/(np.exp(lnfugacity(1,T_ref))))**(beta)*(temp-T_stwid)**(beta-1)*np.exp(-beta/T_mtwid*((1./temp)-1.))\n",
    "            elif 4./3.*math.pi*x_h*rho_m*(Rp(M)**3.-(Rp(M) - Pi_2(M)*np.exp(beta/T_mtwid*((1./temp)-1))*(np.exp(lnfugacity(x,temp)/np.exp(lnfugacity(1,T_ref))))**(-beta)*(temp-T_stwid)**(-(1.+beta)))**3.) > M*omega_0*f_btwid*(f_omegatwid(x,M,t)-x) and (f_omegatwid(x,M,t) - x) > 0:\n",
    "                return Pi_2_1(t,temp,x,M)/N*(np.exp(lnfugacity(x,temp))/(np.exp(lnfugacity(1,T_ref))))**(beta)*(temp-T_stwid)**(beta-1)*np.exp(-beta/T_mtwid*((1./temp)-1.))\n",
    "            elif (f_omegatwid(x,M,t) - x) <= 0:\n",
    "                return Pi_c/N*(np.exp(lnfugacity(x,temp))/(np.exp(lnfugacity(1,T_ref))))**(beta)*(temp-T_stwid)**(beta-1)*np.exp(-beta/T_mtwid*((1./temp)-1.))"
   ]
  },
  {
   "cell_type": "code",
   "execution_count": 32,
   "metadata": {},
   "outputs": [],
   "source": [
    "def f_M_feed_out(t,temp,x,M):\n",
    "    \n",
    "    if cycling == 0.: #water cycling OFF\n",
    "        return 0.\n",
    "    \n",
    "    else:\n",
    "        if temp-T_soltwid+lambda_twid*x**(gamma_cnst) > 0.:\n",
    "            if 4./3.*math.pi*x_h*rho_m*(Rp(M)**3.-(Rp(M) - Pi_2(M)*np.exp(beta/T_mtwid*((1./temp)-1))*(np.exp(lnfugacity(x,temp)/np.exp(lnfugacity(1,T_ref))))**(-beta)*(temp-T_stwid)**(-(1.+beta)))**3.) <= M*omega_0*f_btwid*(f_omegatwid(x,M,t)-x) and (f_omegatwid(x,M,t) - x) > 0:\n",
    "                return (np.exp(lnfugacity(x,temp))/(np.exp(lnfugacity(1,T_ref))))**(2.*beta)*(temp-T_stwid)**(2.*beta)*np.exp(-2.*beta/T_mtwid*((1./temp)-1.))*x*(temp-T_soltwid+lambda_twid*x**(gamma_cnst))**(theta_cnst)\n",
    "            elif 4./3.*math.pi*x_h*rho_m*(Rp(M)**3.-(Rp(M) - Pi_2(M)*np.exp(beta/T_mtwid*((1./temp)-1))*(np.exp(lnfugacity(x,temp)/np.exp(lnfugacity(1,T_ref))))**(-beta)*(temp-T_stwid)**(-(1.+beta)))**3.) > M*omega_0*f_btwid*(f_omegatwid(x,M,t)-x) and (f_omegatwid(x,M,t) - x) > 0:\n",
    "                return (np.exp(lnfugacity(x,temp))/(np.exp(lnfugacity(1,T_ref))))**(2.*beta)*(temp-T_stwid)**(2.*beta)*np.exp(-2.*beta/T_mtwid*((1./temp)-1.))*x*(temp-T_soltwid+lambda_twid*x**(gamma_cnst))**(theta_cnst)\n",
    "            elif (f_omegatwid(x,M,t) - x) <= 0:\n",
    "                return (np.exp(lnfugacity(x,temp))/(np.exp(lnfugacity(1,T_ref))))**(2.*beta)*(temp-T_stwid)**(2.*beta)*np.exp(-2.*beta/T_mtwid*((1./temp)-1.))*x*(temp-T_soltwid+lambda_twid*x**(gamma_cnst))**(theta_cnst)\n",
    "        else:\n",
    "            if 4./3.*math.pi*x_h*rho_m*(Rp(M)**3.-(Rp(M) - Pi_2(M)*np.exp(beta/T_mtwid*((1./temp)-1))*(np.exp(lnfugacity(x,temp)/np.exp(lnfugacity(1,T_ref))))**(-beta)*(temp-T_stwid)**(-(1.+beta)))**3.) <= M*omega_0*f_btwid*(f_omegatwid(x,M,t)-x) and (f_omegatwid(x,M,t) - x) > 0:\n",
    "                return (np.exp(lnfugacity(x,temp))/(np.exp(lnfugacity(1,T_ref))))**(2.*beta)*(temp-T_stwid)**(2.*beta)*np.exp(-2.*beta/T_mtwid*((1./temp)-1.))*x*(0.)**(theta_cnst)\n",
    "            elif 4./3.*math.pi*x_h*rho_m*(Rp(M)**3.-(Rp(M) - Pi_2(M)*np.exp(beta/T_mtwid*((1./temp)-1))*(np.exp(lnfugacity(x,temp)/np.exp(lnfugacity(1,T_ref))))**(-beta)*(temp-T_stwid)**(-(1.+beta)))**3.) > M*omega_0*f_btwid*(f_omegatwid(x,M,t)-x) and (f_omegatwid(x,M,t) - x) > 0:\n",
    "                return (np.exp(lnfugacity(x,temp))/(np.exp(lnfugacity(1,T_ref))))**(2.*beta)*(temp-T_stwid)**(2.*beta)*np.exp(-2.*beta/T_mtwid*((1./temp)-1.))*x*(0.)**1.5\n",
    "            elif (f_omegatwid(x,M,t) - x) <= 0:\n",
    "                return (np.exp(lnfugacity(x,temp))/(np.exp(lnfugacity(1,T_ref))))**(2.*beta)*(temp-T_stwid)**(2.*beta)*np.exp(-2.*beta/T_mtwid*((1./temp)-1.))*x*(0.)**(theta_cnst)"
   ]
  },
  {
   "cell_type": "code",
   "execution_count": null,
   "metadata": {},
   "outputs": [],
   "source": [
    "#x = 1.035\n",
    "#temp = 2.\n",
    "#tmp = (np.exp(lnfugacity(x,temp))/(np.exp(lnfugacity(1,T_ref))))**(2.*beta)*(temp-T_stwid)**(2.*beta)*np.exp(-2.*beta/T_mtwid*((1./temp)-1.))*x*(temp-T_soltwid+lambda_twid*x**(gamma_cnst))**(theta_cnst)\n",
    "#tmp2 = (1.**(2.*beta))*(temp-T_stwid)**(2.*beta)*np.exp(-2.*beta/T_mtwid*((1./temp)-1.))*x*(temp-T_soltwid+lambda_twid*x**(gamma_cnst))**(theta_cnst)\n",
    "#tmp3 = (np.exp(lnfugacity(x,temp))/(np.exp(lnfugacity(1,T_ref))))\n",
    "#tmp4 = np.exp(lnfugacity(x,temp))\n",
    "#tmp5 = np.exp(lnfugacity(1,T_ref))\n",
    "#print(tmp)\n",
    "#print(tmp2)\n",
    "#print(tmp3)\n",
    "#print(tmp4)\n",
    "#print(tmp5)\n",
    "#print(Pitwid(M))\n",
    "#print(M)"
   ]
  },
  {
   "cell_type": "code",
   "execution_count": 33,
   "metadata": {},
   "outputs": [],
   "source": [
    "def f_all_wat_feed(t,z,M):\n",
    "    temp = z[0]\n",
    "    x = z[1]\n",
    "    return [tau_1_inv(M)/tau_2_inv(M)*f_conv_water(t,temp,x,M),tau_1_inv(M)/tau_4_inv(M)*f_M_feed(t,temp,x,M)]"
   ]
  },
  {
   "cell_type": "code",
   "execution_count": 68,
   "metadata": {},
   "outputs": [],
   "source": [
    "#x0_x,t0_x = 5.8e-4*0.68/(2.3e-4*1.3), 0.\n",
    "omegatwid = omg_Etwid/(f_btwid)\n",
    "x0_x,t0_x = omegatwid/2., 0.\n",
    "sigma = 1.\n",
    "mu = 1.\n",
    "x0,t0 = 2., 0.\n",
    "M = 1.*M_E\n",
    "z0=[x0,x0_x]\n",
    "#r = ode(f_fug,jac_fug).set_integrator('vode', with_jacobian=True)\n",
    "r = ode(f_all_wat_feed).set_integrator('vode')\n",
    "#r.set_initial_value(z0, t0).set_f_params(gtwid,omegatwid,sigma,mu,M).set_jac_params(gtwid,omegatwid,sigma,mu,M)\n",
    "r.set_initial_value(z0,t0).set_f_params(M)\n",
    "t1 = 100.\n",
    "dt = 1.e-5\n",
    "t_array_SS = np.zeros(int(t1/dt))\n",
    "T_array_SS = np.zeros(int(t1/dt))\n",
    "x_array_SS = np.zeros(int(t1/dt))\n",
    "omegatwid_array_SS = np.zeros(int(t1/dt))\n",
    "in_array_SS = np.zeros(int(t1/dt))\n",
    "out_array_SS = np.zeros(int(t1/dt))\n",
    "d_hydr_SS = np.zeros(int(t1/dt))\n",
    "eta_array_SS = np.zeros(int(t1/dt))\n",
    "lhs_array_SS = np.zeros(int(t1/dt))\n",
    "rhs_array_SS = np.zeros(int(t1/dt))\n",
    "idx = 0\n",
    "while r.successful() and r.t < t1:\n",
    "    r.integrate(r.t+dt)\n",
    "    t_array_SS[idx] = r.t\n",
    "    T_array_SS[idx] = r.y[0]\n",
    "    x_array_SS[idx] = r.y[1]\n",
    "    omegatwid_array_SS[idx] = f_omegatwid(r.y[1], M, r.t)\n",
    "    in_array_SS[idx] = f_M_feed_in(r.t,r.y[0],r.y[1],M)\n",
    "    out_array_SS[idx] = f_M_feed_out(r.t,r.y[0],r.y[1],M)\n",
    "    d_hydr_SS[idx] = dhydr_real_SS(r.t,r.y[0],r.y[1],M)\n",
    "    eta_array_SS[idx] = eta(r.y[1],r.y[0])\n",
    "    lhs_array_SS[idx] = 4./3.*math.pi*x_h*rho_m*(Rp(M)**3.-(Rp(M) - Pi_2(M)*np.exp(beta/T_mtwid*((1./r.y[0])-1))*(np.exp(lnfugacity(r.y[1],r.y[0])/np.exp(lnfugacity(1,T_ref))))**(-beta)*(r.y[0]-T_stwid)**(-(1.+beta)))**3.)\n",
    "    rhs_array_SS[idx] = M*omega_0*f_btwid*(f_omegatwid(r.y[1],M,r.t)-r.y[1])\n",
    "    idx = idx + 1"
   ]
  },
  {
   "cell_type": "code",
   "execution_count": 69,
   "metadata": {},
   "outputs": [
    {
     "name": "stdout",
     "output_type": "stream",
     "text": [
      "0.0\n",
      "8.123726901645797e-06\n"
     ]
    }
   ],
   "source": [
    "#%matplotlib inline\n",
    "print(out_array_SS[-1])\n",
    "print(in_array_SS[-1])\n",
    "#plt.semilogx(t_array_SS, d_hydr_SS)\n",
    "#plt.semilogx(t_array_SS*2.22, lhs_array_SS, color='green')\n",
    "#plt.semilogx(t_array_SS*2.22, rhs_array_SS, color='magenta')"
   ]
  },
  {
   "cell_type": "code",
   "execution_count": 70,
   "metadata": {},
   "outputs": [
    {
     "name": "stderr",
     "output_type": "stream",
     "text": [
      "/Users/admin/anaconda3/lib/python3.7/site-packages/matplotlib/figure.py:98: MatplotlibDeprecationWarning: \n",
      "Adding an axes using the same arguments as a previous axes currently reuses the earlier instance.  In a future version, a new instance will always be created and returned.  Meanwhile, this warning can be suppressed, and the future behavior ensured, by passing a unique label to each axes instance.\n",
      "  \"Adding an axes using the same arguments as a previous axes \"\n"
     ]
    },
    {
     "data": {
      "text/plain": [
       "<matplotlib.legend.Legend at 0x164c72cd68>"
      ]
     },
     "execution_count": 70,
     "metadata": {},
     "output_type": "execute_result"
    },
    {
     "data": {
      "image/png": "[encoded data removed]",
      "text/plain": [
       "<Figure size 1224x540 with 2 Axes>"
      ]
     },
     "metadata": {
      "needs_background": "light"
     },
     "output_type": "display_data"
    }
   ],
   "source": [
    "s_array_SS = omegatwid_array_SS - x_array_SS\n",
    "\n",
    "%matplotlib inline\n",
    "plt.rc('font', family='serif')\n",
    "plt.rc('xtick', labelsize=16)\n",
    "plt.rc('ytick', labelsize=16)\n",
    "fig = plt.figure(figsize=(17,7.5))\n",
    "plt.tight_layout()\n",
    "ax = [fig.add_subplot(1,2,i+1) for i in range(2)]\n",
    "fig.subplots_adjust(hspace=0)\n",
    "\n",
    "kg_conv = 2.3e-4*1.3*M_E #[kg]\n",
    "\n",
    "ax = plt.subplot(1,2,1)\n",
    "plt.semilogx(t_array_SS*2.22, (x_array_SS*kg_conv/1000./1.0e18), linewidth=3, color='b', linestyle='--', label='Mantle')\n",
    "plt.semilogx(t_array_SS*2.22, (s_array_SS*kg_conv/1000./1.0e18), linewidth=3, color='r', linestyle=':', label='Surface')\n",
    "plt.xlabel('Time [Gyr]', fontsize=16)\n",
    "plt.ylabel('Water Mass [exatons]', fontsize=16)\n",
    "plt.legend(loc='lower left', fontsize=16)\n",
    "\n",
    "dr_conv = (3*np.pi*(6.3781e6)*(0.1/31536000.)*0.05*3.0e3*0.23*3.0e3/0.68) #[kg/s]\n",
    "mol_yr_conv = (3153600./0.01801528) # convert [kg/s] to [mol/yr]\n",
    "exa_gyr_conv = (3153600.*1.0e9/(1000.*1.0e18)) # convert [kg/s] to [exatons/Gyr]\n",
    "# Mol/yr rate consistent with degassing rate of H2O from paper -- 6*10^12 mol/yr!\n",
    "\n",
    "ax = plt.subplot(1,2,2)\n",
    "plt.semilogx(t_array_SS*2.22, (out_array_SS*dr_conv*exa_gyr_conv), linewidth=3, color='b', linestyle='--', label='Degassing')\n",
    "plt.semilogx(t_array_SS*2.22, (in_array_SS*dr_conv*exa_gyr_conv), linewidth=3, color='r', linestyle=':', label='Regassing')\n",
    "#plt.semilogx(t_array_CA*2.87, (loss_array_CA*dr_conv*exa_gyr_conv), linewidth=3, color='k', linestyle='-.', label='Atmospheric Loss')\n",
    "plt.xlabel('Time [Gyr]', fontsize=16)\n",
    "plt.ylabel(r'Flux Rate [$10^{21}$ kg/Gyr]', fontsize=16)\n",
    "plt.legend(loc='upper right', fontsize=16)\n",
    "#plt.savefig('Recoded_CA_model_cycling_exploss.pdf', bbox_inches='tight')"
   ]
  },
  {
   "cell_type": "code",
   "execution_count": 71,
   "metadata": {},
   "outputs": [
    {
     "name": "stdout",
     "output_type": "stream",
     "text": [
      "1.6638702751139536\n",
      "0.4097083202037721\n"
     ]
    }
   ],
   "source": [
    "s_array_SS = omegatwid_array_SS - x_array_SS\n",
    "\n",
    "#print(out_array_SS[0], in_array_SS[0])\n",
    "print(x_array_SS[-1])\n",
    "print(s_array_SS[-1])\n",
    "#print(x_array_SS[1], s_array_SS[1])\n",
    "#print(T_array_SS[0])"
   ]
  },
  {
   "cell_type": "code",
   "execution_count": 72,
   "metadata": {},
   "outputs": [
    {
     "name": "stdout",
     "output_type": "stream",
     "text": [
      "Stored 'tmp_time_array_SS' (ndarray)\n",
      "Stored 'tmp_temp_array_SS' (ndarray)\n",
      "Stored 'tmp_regas_array_SS' (ndarray)\n",
      "Stored 'tmp_degas_array_SS' (ndarray)\n",
      "Stored 'tmp_x_array_SS' (ndarray)\n",
      "Stored 'tmp_s_array_SS' (ndarray)\n"
     ]
    }
   ],
   "source": [
    "tmp_time_array_SS = t_array_SS\n",
    "tmp_temp_array_SS = T_array_SS\n",
    "tmp_regas_array_SS = in_array_SS\n",
    "tmp_degas_array_SS = out_array_SS\n",
    "tmp_x_array_SS = x_array_SS\n",
    "tmp_s_array_SS = s_array_SS\n",
    "\n",
    "% store tmp_time_array_SS\n",
    "% store tmp_temp_array_SS\n",
    "% store tmp_regas_array_SS\n",
    "% store tmp_degas_array_SS\n",
    "% store tmp_x_array_SS\n",
    "% store tmp_s_array_SS"
   ]
  },
  {
   "cell_type": "code",
   "execution_count": null,
   "metadata": {},
   "outputs": [],
   "source": [
    "## %matplotlib inline\n",
    "plt.rc('font', family='serif')\n",
    "plt.rc('xtick', labelsize=16)\n",
    "plt.rc('ytick', labelsize=16)\n",
    "fig = plt.figure(figsize=(17,7.5))\n",
    "plt.tight_layout()\n",
    "fig = plt.figure(figsize=(8.5,7.5))\n",
    "plt.semilogx(t_array_SS*2.22, T_array_SS*1600., color='purple')\n",
    "plt.xlabel('Time [Gyr]', fontsize=16)\n",
    "plt.ylabel('Mantle Temperature [K]', fontsize=16)"
   ]
  },
  {
   "cell_type": "code",
   "execution_count": null,
   "metadata": {},
   "outputs": [],
   "source": [
    "#tmp_time_array_SS = t_array_SS\n",
    "#tmp_temp_array_SS = T_array_SS\n",
    "#%store tmp_time_array_SS\n",
    "#%store tmp_temp_array_SS"
   ]
  },
  {
   "cell_type": "code",
   "execution_count": null,
   "metadata": {},
   "outputs": [],
   "source": [
    "#print(T_array_SS[-1]*1600.)"
   ]
  },
  {
   "cell_type": "code",
   "execution_count": null,
   "metadata": {},
   "outputs": [],
   "source": [
    "#%matplotlib inline\n",
    "# print M_E*omega_0*f_btwid*(omegatwid-x_array_SS[-1])\n",
    "#earth ocean mass is 1.4e21\n",
    "#print(omegatwid_array_SS[100000]*x_array_SS[100001]/omegatwid_array_SS[100001])\n",
    "#print(x_array_SS[100001])\n",
    "#plt.semilogx(x_array_SS)"
   ]
  },
  {
   "cell_type": "markdown",
   "metadata": {},
   "source": [
    "### Hybrid model (degassing Kite, regassing S+S)"
   ]
  },
  {
   "cell_type": "code",
   "execution_count": 34,
   "metadata": {},
   "outputs": [],
   "source": [
    "# Atmospheric loss ON/OFF -- now with a switch!\n",
    "\n",
    "def f_omegatwid(x_twid, M, t):\n",
    "    if atmos_loss == 0.:\n",
    "        return omg_Etwid/(f_btwid)\n",
    "    \n",
    "    else:\n",
    "        # Calculate mass of water in mantle, total mass of water\n",
    "        M_w_mantle = x_twid * 2.3e-4 * 1.3 * M\n",
    "        M_w_i = (omg_Etwid/f_btwid) * 2.3e-4 * 1.3 * M\n",
    "    \n",
    "        # Calculate water on surface, and remove a small amount.\n",
    "        M_w_surf = (M_w_i - M_w_mantle) - 1e19*t #1e19*t is safe -- roughly 1 TO lost over simulations\n",
    "    \n",
    "        # Recalculate omega after some water has been lost, and omegatwid (which is the function output).\n",
    "        M_w_f = M_w_surf + M_w_mantle\n",
    "   \n",
    "        return (M_w_f / M) / (2.3e-4 * 1.3)"
   ]
  },
  {
   "cell_type": "code",
   "execution_count": 35,
   "metadata": {},
   "outputs": [],
   "source": [
    "D = rho_m*d_melt*f_degasE*omega_0*f_btwid/f_M #E in paper\n",
    "def tau_5_inv(M):\n",
    "    return Sigma(M)/D\n",
    "def tau_5_inv_re(M):\n",
    "    return Sigma(M)/Pi(M)\n",
    "#print tau_5_inv(M_E)/(3.156e7*1.e9)\n",
    "#print tau_5_inv_re(M_E)/(3.156e7*1.e9)\n",
    "def Pitwid_2(M):\n",
    "    return Pi(M)/D #D/E in paper"
   ]
  },
  {
   "cell_type": "code",
   "execution_count": 57,
   "metadata": {},
   "outputs": [
    {
     "name": "stdout",
     "output_type": "stream",
     "text": [
      "0.28212665883132326\n"
     ]
    }
   ],
   "source": [
    "print(D/Pi(M_E))"
   ]
  },
  {
   "cell_type": "code",
   "execution_count": 36,
   "metadata": {},
   "outputs": [],
   "source": [
    "def Pi_2(M): #D2 in paper\n",
    "    return h(M)**(1.-3.*beta)*(T_serp-T_s)/(T_ref**(1.+beta))*(kappa*Ra_c*eta_0/(alpha*rho_m*g(M)*(np.exp(lnfugacity(1,T_ref)))))**(beta)\n",
    "def Pi_2_1(t,temp,x,M): #D2_max*x_h*rho_c*chi_r in paper\n",
    "    return x_h*rho_c*chi_r*(Rp(M)-(Rp(M)**3. - 3./4.*omega_0*f_btwid*M*(f_omegatwid(x,M,t)-x)/(math.pi*x_h*rho_m))**(1./3.))*np.exp(-beta/T_mtwid*((1./temp)-1))*(np.exp(lnfugacity(x,temp)/np.exp(lnfugacity(1,T_ref))))**(beta)*(temp-T_stwid)**(1.+beta)\n",
    "Pi_c = 0.\n",
    "def f_M_feed_hybrid(t,temp,x,M): \n",
    "    \n",
    "    if cycling == 0.: #water cycling OFF\n",
    "        return 0.\n",
    "    \n",
    "    else:\n",
    "        if 4./3.*math.pi*x_h*rho_m*(Rp(M)**3.-(Rp(M) - Pi_2(M)*np.exp(beta/T_mtwid*((1./temp)-1))*(np.exp(lnfugacity(x,temp)/np.exp(lnfugacity(1,T_ref))))**(-beta)*(temp-T_stwid)**(-(1.+beta)))**3.) <= M*omega_0*f_btwid*(f_omegatwid(x,M,t)-x) and (f_omegatwid(x,M,t) - x) > 0:\n",
    "            return Pitwid_2(M)*(np.exp(lnfugacity(x,temp))/(np.exp(lnfugacity(1,T_ref))))**(beta)*(temp-T_stwid)**(beta-1)*np.exp(-beta/T_mtwid*((1./temp)-1.)) - (np.exp(lnfugacity(x,temp))/(np.exp(lnfugacity(1,T_ref))))**(2.*beta)*(temp-T_stwid)**(2.*beta)*np.exp(-2.*beta/T_mtwid*((1./temp)-1.))*x*(gtwid(M)**2.*(f_omegatwid(x,M,t)-x))**(-1.)\n",
    "        elif 4./3.*math.pi*x_h*rho_m*(Rp(M)**3.-(Rp(M) - Pi_2(M)*np.exp(beta/T_mtwid*((1./temp)-1))*(np.exp(lnfugacity(x,temp)/np.exp(lnfugacity(1,T_ref))))**(-beta)*(temp-T_stwid)**(-(1.+beta)))**3.) > M*omega_0*f_btwid*(f_omegatwid(x,M,t)-x) and (f_omegatwid(x,M,t) - x) > 0:\n",
    "            return Pi_2_1(t,temp,x,M)/D*(np.exp(lnfugacity(x,temp))/(np.exp(lnfugacity(1,T_ref))))**(beta)*(temp-T_stwid)**(beta-1)*np.exp(-beta/T_mtwid*((1./temp)-1.)) - (np.exp(lnfugacity(x,temp))/(np.exp(lnfugacity(1,T_ref))))**(2.*beta)*(temp-T_stwid)**(2.*beta)*np.exp(-2.*beta/T_mtwid*((1./temp)-1.))*x*(gtwid(M)**2.*(f_omegatwid(x,M,t)-x))**(-1.)\n",
    "        if (f_omegatwid(x,M,t) - x) <= 0:\n",
    "            return Pi_c/D*(np.exp(lnfugacity(x,temp))/(np.exp(lnfugacity(1,T_ref))))**(beta)*(temp-T_stwid)**(beta-1)*np.exp(-beta/T_mtwid*((1./temp)-1.)) - (np.exp(lnfugacity(x,temp))/(np.exp(lnfugacity(1.,T_ref))))**(2.*beta)*(temp-T_stwid)**(2.*beta)*np.exp(-2.*beta/T_mtwid*((1./temp)-1.))*x"
   ]
  },
  {
   "cell_type": "code",
   "execution_count": null,
   "metadata": {},
   "outputs": [],
   "source": [
    "(np.exp(lnfugacity(x,temp))/(np.exp(lnfugacity(1,T_ref))))\n",
    "(np.exp(lnfugacity(x,temp)/np.exp(lnfugacity(1,T_ref))))"
   ]
  },
  {
   "cell_type": "code",
   "execution_count": 67,
   "metadata": {},
   "outputs": [
    {
     "name": "stdout",
     "output_type": "stream",
     "text": [
      "9493321.912944062\n",
      "0.05 3000.0 0.03 6371000.0 0.00023 1.3 5.972e+24 3300.0\n",
      "0.3 0.039708656716417906 0.175\n"
     ]
    }
   ],
   "source": [
    "#print(D)\n",
    "print(Pi_2_1(0.,2.,omegatwid/2.,M_E))\n",
    "print(x_h, rho_c, chi_r, Rp(M_E), omega_0, f_btwid, M_E, rho_m)\n",
    "print(beta, T_mtwid, T_stwid)"
   ]
  },
  {
   "cell_type": "code",
   "execution_count": 37,
   "metadata": {},
   "outputs": [],
   "source": [
    "def f_M_feed_hybrid_out(t,temp,x,M):\n",
    "    \n",
    "    if cycling == 0.: #water cycling OFF\n",
    "        return 0.\n",
    "    \n",
    "    else:\n",
    "        if 4./3.*math.pi*x_h*rho_m*(Rp(M)**3.-(Rp(M) - Pi_2(M)*np.exp(beta/T_mtwid*((1./temp)-1))*(np.exp(lnfugacity(x,temp)/np.exp(lnfugacity(1,T_ref))))**(-beta)*(temp-T_stwid)**(-(1.+beta)))**3.) <= M*omega_0*f_btwid*(f_omegatwid(x,M,t)-x) and (f_omegatwid(x,M,t) - x) > 0:\n",
    "            return (np.exp(lnfugacity(x,temp))/(np.exp(lnfugacity(1,T_ref))))**(2.*beta)*(temp-T_stwid)**(2.*beta)*np.exp(-2.*beta/T_mtwid*((1./temp)-1.))*x*(gtwid(M)**2.*(f_omegatwid(x,M,t)-x))**(-1.)\n",
    "        elif 4./3.*math.pi*x_h*rho_m*(Rp(M)**3.-(Rp(M) - Pi_2(M)*np.exp(beta/T_mtwid*((1./temp)-1))*(np.exp(lnfugacity(x,temp)/np.exp(lnfugacity(1,T_ref))))**(-beta)*(temp-T_stwid)**(-(1.+beta)))**3.) > M*omega_0*f_btwid*(f_omegatwid(x,M,t)-x) and (f_omegatwid(x,M,t) - x) > 0:\n",
    "            return (np.exp(lnfugacity(x,temp))/(np.exp(lnfugacity(1,T_ref))))**(2.*beta)*(temp-T_stwid)**(2.*beta)*np.exp(-2.*beta/T_mtwid*((1./temp)-1.))*x*(gtwid(M)**2.*(f_omegatwid(x,M,t)-x))**(-1.)\n",
    "        if (f_omegatwid(x,M,t) - x) <= 0:\n",
    "            return (np.exp(lnfugacity(x,temp))/(np.exp(lnfugacity(1.,T_ref))))**(2.*beta)*(temp-T_stwid)**(2.*beta)*np.exp(-2.*beta/T_mtwid*((1./temp)-1.))*x\n",
    "\n",
    "def f_M_feed_hybrid_in(t,temp,x,M):\n",
    "    \n",
    "    if cycling == 0.: #water cycling OFF\n",
    "        return 0.\n",
    "    \n",
    "    else:\n",
    "        if 4./3.*math.pi*x_h*rho_m*(Rp(M)**3.-(Rp(M) - Pi_2(M)*np.exp(beta/T_mtwid*((1./temp)-1))*(np.exp(lnfugacity(x,temp)/np.exp(lnfugacity(1,T_ref))))**(-beta)*(temp-T_stwid)**(-(1.+beta)))**3.) <= M*omega_0*f_btwid*(f_omegatwid(x,M,t)-x) and (f_omegatwid(x,M,t) - x) > 0:\n",
    "            return Pitwid_2(M)*(np.exp(lnfugacity(x,temp))/(np.exp(lnfugacity(1,T_ref))))**(beta)*(temp-T_stwid)**(beta-1)*np.exp(-beta/T_mtwid*((1./temp)-1.)) \n",
    "        elif 4./3.*math.pi*x_h*rho_m*(Rp(M)**3.-(Rp(M) - Pi_2(M)*np.exp(beta/T_mtwid*((1./temp)-1))*(np.exp(lnfugacity(x,temp)/np.exp(lnfugacity(1,T_ref))))**(-beta)*(temp-T_stwid)**(-(1.+beta)))**3.) > M*omega_0*f_btwid*(f_omegatwid(x,M,t)-x) and (f_omegatwid(x,M,t) - x) > 0:\n",
    "            return Pi_2_1(t,temp,x,M)/D*(np.exp(lnfugacity(x,temp))/(np.exp(lnfugacity(1,T_ref))))**(beta)*(temp-T_stwid)**(beta-1)*np.exp(-beta/T_mtwid*((1./temp)-1.)) \n",
    "        if (f_omegatwid(x,M,t) - x) <= 0:\n",
    "            return Pi_c/D*(np.exp(lnfugacity(x,temp))/(np.exp(lnfugacity(1,T_ref))))**(beta)*(temp-T_stwid)**(beta-1)*np.exp(-beta/T_mtwid*((1./temp)-1.))"
   ]
  },
  {
   "cell_type": "code",
   "execution_count": 59,
   "metadata": {},
   "outputs": [
    {
     "name": "stdout",
     "output_type": "stream",
     "text": [
      "104.10794424409885\n",
      "2865.319373691541\n"
     ]
    }
   ],
   "source": [
    "print(f_M_feed_hybrid_in(0.,2.,omegatwid/2.,M_E))\n",
    "print(f_M_feed_hybrid_out(0.,2.,omegatwid/2.,M_E))"
   ]
  },
  {
   "cell_type": "code",
   "execution_count": 38,
   "metadata": {},
   "outputs": [],
   "source": [
    "def dhydr(temp,x,M):\n",
    "    return Pi_2(M)*np.exp(beta/T_mtwid*((1./temp)-1))*(np.exp(lnfugacity(x,temp)/np.exp(lnfugacity(1.,T_ref))))**(-beta)*(temp-T_stwid)**(-(1.+beta))"
   ]
  },
  {
   "cell_type": "code",
   "execution_count": 39,
   "metadata": {},
   "outputs": [],
   "source": [
    "def dhydr_real(t,temp,x,M):\n",
    "    if 4./3.*math.pi*x_h*rho_m*(Rp(M)**3.-(Rp(M) - Pi_2(M)*np.exp(beta/T_mtwid*((1./temp)-1))*(np.exp(lnfugacity(x,temp)/np.exp(lnfugacity(1,T_ref))))**(-beta)*(temp-T_stwid)**(-(1.+beta)))**3.) <= M*omega_0*f_btwid*(f_omegatwid(x,M,t)-x) and (f_omegatwid(x,M,t) - x) > 0:\n",
    "        return Pi_2(M)*np.exp(beta/T_mtwid*((1./temp)-1))*(np.exp(lnfugacity(x,temp)/np.exp(lnfugacity(1.,T_ref))))**(-beta)*(temp-T_stwid)**(-(1.+beta))\n",
    "    elif 4./3.*math.pi*x_h*rho_m*(Rp(M)**3.-(Rp(M) - Pi_2(M)*np.exp(beta/T_mtwid*((1./temp)-1))*(np.exp(lnfugacity(x,temp)/np.exp(lnfugacity(1,T_ref))))**(-beta)*(temp-T_stwid)**(-(1.+beta)))**3.) > M*omega_0*f_btwid*(f_omegatwid(x,M,t)-x) and (f_omegatwid(x,M,t) - x) > 0:\n",
    "        return Pi_2_1(t,temp,x,M)/(x_h*rho_c*chi_r)*np.exp(beta/T_mtwid*((1./temp)-1))*(np.exp(lnfugacity(x,temp)/np.exp(lnfugacity(1.,T_ref))))**(-beta)*(temp-T_stwid)**(-(1.+beta))"
   ]
  },
  {
   "cell_type": "code",
   "execution_count": 40,
   "metadata": {},
   "outputs": [],
   "source": [
    "def delta(temp,x,M):\n",
    "    return h(M)*(Ra_c*eta_0*np.exp(1./T_mtwid*((1./temp)-1))*(np.exp(lnfugacity(x,temp)))**(-1)*kappa/(alpha*rho_m*g(M)*T_ref*(temp-T_stwid)*h(M)**3.))**(beta)"
   ]
  },
  {
   "cell_type": "code",
   "execution_count": 41,
   "metadata": {},
   "outputs": [],
   "source": [
    "dhydr_a = []\n",
    "delta_a = []\n",
    "temp_a = []\n",
    "temp = 0.5\n",
    "while temp <= 2.5:\n",
    "    dhydr_a.append(dhydr(temp,1,M_E))\n",
    "    delta_a.append(delta(temp,1,M_E))\n",
    "    temp_a.append(temp)\n",
    "    temp = temp + 0.1\n",
    "    "
   ]
  },
  {
   "cell_type": "code",
   "execution_count": 42,
   "metadata": {},
   "outputs": [],
   "source": [
    "#semilogy(temp_a,np.divide(dhydr_a,1.e3),'k',temp_a,np.divide(delta_a,1.e3))\n",
    "#dhydr always less than delta (unless T tiny, in which it becomes like the radius of the planet..), good!!"
   ]
  },
  {
   "cell_type": "code",
   "execution_count": 43,
   "metadata": {},
   "outputs": [],
   "source": [
    "def f_all_wat_feed_hybrid(t,z,M):\n",
    "    temp = z[0]\n",
    "    x = z[1]\n",
    "    return [tau_1_inv(M)/tau_2_inv(M)*f_conv_water(t,temp,x,M),tau_1_inv(M)/tau_5_inv(M)*f_M_feed_hybrid(t,temp,x,M)]\n"
   ]
  },
  {
   "cell_type": "code",
   "execution_count": 44,
   "metadata": {},
   "outputs": [],
   "source": [
    "#x0_x,t0_x = 5.8e-4*0.68/(2.3e-4*1.3), 0.\n",
    "omegatwid = omg_Etwid/(f_btwid)\n",
    "x0_x,t0_x = omegatwid/2., 0.\n",
    "sigma = 1.\n",
    "mu = 1.\n",
    "x0,t0 = 2., 0.\n",
    "M = 1.*M_E\n",
    "z0=[x0,x0_x]\n",
    "#r = ode(f_fug,jac_fug).set_integrator('vode', with_jacobian=True)\n",
    "r = ode(f_all_wat_feed_hybrid).set_integrator('vode')\n",
    "#r.set_initial_value(z0, t0).set_f_params(gtwid,omegatwid,sigma,mu,M).set_jac_params(gtwid,omegatwid,sigma,mu,M)\n",
    "r.set_initial_value(z0,t0).set_f_params(M)\n",
    "t1 = 100.\n",
    "dt = 1.e-5\n",
    "t_array_hyb = np.zeros(int(t1/dt))\n",
    "T_array_hyb = np.zeros(int(t1/dt))\n",
    "x_array_hyb = np.zeros(int(t1/dt))\n",
    "omegatwid_array_hyb = np.zeros(int(t1/dt))\n",
    "in_array_hyb = np.zeros(int(t1/dt))\n",
    "out_array_hyb = np.zeros(int(t1/dt))\n",
    "d_hydr_hyb = np.zeros(int(t1/dt))\n",
    "eta_array_hyb = np.zeros(int(t1/dt))\n",
    "idx = 0\n",
    "while r.successful() and r.t < t1:\n",
    "    r.integrate(r.t+dt)\n",
    "    t_array_hyb[idx] = r.t\n",
    "    T_array_hyb[idx] = r.y[0]\n",
    "    x_array_hyb[idx] = r.y[1]\n",
    "    omegatwid_array_hyb[idx] = f_omegatwid(r.y[1],M,r.t)\n",
    "    in_array_hyb[idx] = f_M_feed_hybrid_in(r.t,r.y[0],r.y[1],M)\n",
    "    out_array_hyb[idx] = f_M_feed_hybrid_out(r.t,r.y[0],r.y[1],M)\n",
    "    d_hydr_hyb[idx] = dhydr_real(r.t,r.y[0],r.y[1],M)\n",
    "    eta_array_hyb[idx] = eta(r.y[1], r.y[0])\n",
    "    idx = idx + 1"
   ]
  },
  {
   "cell_type": "code",
   "execution_count": 45,
   "metadata": {},
   "outputs": [
    {
     "name": "stderr",
     "output_type": "stream",
     "text": [
      "/Users/admin/anaconda3/lib/python3.7/site-packages/matplotlib/figure.py:98: MatplotlibDeprecationWarning: \n",
      "Adding an axes using the same arguments as a previous axes currently reuses the earlier instance.  In a future version, a new instance will always be created and returned.  Meanwhile, this warning can be suppressed, and the future behavior ensured, by passing a unique label to each axes instance.\n",
      "  \"Adding an axes using the same arguments as a previous axes \"\n"
     ]
    },
    {
     "data": {
      "text/plain": [
       "<matplotlib.legend.Legend at 0x154adf3da0>"
      ]
     },
     "execution_count": 45,
     "metadata": {},
     "output_type": "execute_result"
    },
    {
     "data": {
      "image/png": "[encoded data removed]",
      "text/plain": [
       "<Figure size 1224x540 with 2 Axes>"
      ]
     },
     "metadata": {
      "needs_background": "light"
     },
     "output_type": "display_data"
    }
   ],
   "source": [
    "s_array_hyb = omegatwid_array_hyb - x_array_hyb\n",
    "\n",
    "%matplotlib inline\n",
    "plt.rc('font', family='serif')\n",
    "plt.rc('xtick', labelsize=16)\n",
    "plt.rc('ytick', labelsize=16)\n",
    "fig = plt.figure(figsize=(17,7.5))\n",
    "plt.tight_layout()\n",
    "ax = [fig.add_subplot(1,2,i+1) for i in range(2)]\n",
    "fig.subplots_adjust(hspace=0)\n",
    "\n",
    "kg_conv = 2.3e-4*1.3*M_E #[kg]\n",
    "\n",
    "ax = plt.subplot(1,2,1)\n",
    "plt.semilogx(t_array_hyb*2.22, (x_array_hyb*kg_conv/1000./1.0e18), linewidth=3, color='b', linestyle='--', label='Mantle')\n",
    "plt.semilogx(t_array_hyb*2.22, (s_array_hyb*kg_conv/1000./1.0e18), linewidth=3, color='r', linestyle=':', label='Surface')\n",
    "plt.xlabel('Time [Gyr]', fontsize=16)\n",
    "plt.ylabel('Water Mass [$10^{21}$ kg/Gyr]', fontsize=16)\n",
    "plt.legend(loc='lower left', fontsize=16)\n",
    "\n",
    "dr_conv = (3*np.pi*(6.3781e6)*(0.1/31536000.)*0.05*3.0e3*0.23*3.0e3/0.68) #[kg/s]\n",
    "mol_yr_conv = (3153600./0.01801528) # convert [kg/s] to [mol/yr]\n",
    "exa_gyr_conv = (3153600.*1.0e9/(1000.*1.0e18)) # convert [kg/s] to [exatons/Gyr]\n",
    "# Mol/yr rate consistent with degassing rate of H2O from paper -- 6*10^12 mol/yr!\n",
    "\n",
    "ax = plt.subplot(1,2,2)\n",
    "plt.semilogx(t_array_hyb*2.22, (out_array_hyb*dr_conv*exa_gyr_conv), linewidth=3, color='b', linestyle='--', label='Degassing')\n",
    "plt.semilogx(t_array_hyb*2.22, (in_array_hyb*dr_conv*exa_gyr_conv), linewidth=3, color='r', linestyle=':', label='Regassing')\n",
    "#plt.semilogx(t_array_CA*2.87, (loss_array_CA*dr_conv*exa_gyr_conv), linewidth=3, color='k', linestyle='-.', label='Atmospheric Loss')\n",
    "plt.xlabel('Time [Gyr]', fontsize=16)\n",
    "plt.ylabel(r'Flux Rate [$10^{21}$ kg/Gyr]', fontsize=16)\n",
    "plt.legend(loc='upper right', fontsize=16)\n",
    "#plt.savefig('Recoded_CA_model_cycling_exploss.pdf', bbox_inches='tight')"
   ]
  },
  {
   "cell_type": "code",
   "execution_count": 51,
   "metadata": {},
   "outputs": [
    {
     "name": "stdout",
     "output_type": "stream",
     "text": [
      "Stored 'tmp_time_array' (ndarray)\n",
      "Stored 'tmp_temp_array' (ndarray)\n",
      "Stored 'tmp_regas_array' (ndarray)\n",
      "Stored 'tmp_degas_array' (ndarray)\n",
      "Stored 'tmp_x_array' (ndarray)\n",
      "Stored 'tmp_s_array' (ndarray)\n"
     ]
    }
   ],
   "source": [
    "tmp_time_array = t_array_hyb\n",
    "tmp_temp_array = T_array_hyb\n",
    "tmp_regas_array = in_array_hyb\n",
    "tmp_degas_array = out_array_hyb\n",
    "tmp_x_array = x_array_hyb\n",
    "tmp_s_array = s_array_hyb\n",
    "\n",
    "% store tmp_time_array\n",
    "% store tmp_temp_array\n",
    "% store tmp_regas_array\n",
    "% store tmp_degas_array\n",
    "% store tmp_x_array\n",
    "% store tmp_s_array"
   ]
  },
  {
   "cell_type": "code",
   "execution_count": 48,
   "metadata": {},
   "outputs": [
    {
     "data": {
      "text/plain": [
       "Text(0, 0.5, 'Mantle Temperature [K]')"
      ]
     },
     "execution_count": 48,
     "metadata": {},
     "output_type": "execute_result"
    },
    {
     "data": {
      "text/plain": [
       "<Figure size 1224x540 with 0 Axes>"
      ]
     },
     "metadata": {},
     "output_type": "display_data"
    },
    {
     "data": {
      "image/png": "[encoded data removed]",
      "text/plain": [
       "<Figure size 612x540 with 1 Axes>"
      ]
     },
     "metadata": {
      "needs_background": "light"
     },
     "output_type": "display_data"
    }
   ],
   "source": [
    "%matplotlib inline\n",
    "plt.rc('font', family='serif')\n",
    "plt.rc('xtick', labelsize=16)\n",
    "plt.rc('ytick', labelsize=16)\n",
    "fig = plt.figure(figsize=(17,7.5))\n",
    "plt.tight_layout()\n",
    "fig = plt.figure(figsize=(8.5,7.5))\n",
    "plt.semilogx(t_array_hyb*2.22, T_array_hyb*1600., color='purple')\n",
    "plt.xlabel('Time [Gyr]', fontsize=16)\n",
    "plt.ylabel('Mantle Temperature [K]', fontsize=16)"
   ]
  },
  {
   "cell_type": "markdown",
   "metadata": {},
   "source": [
    "### Compare different schemes"
   ]
  },
  {
   "cell_type": "code",
   "execution_count": null,
   "metadata": {},
   "outputs": [],
   "source": [
    "# Atmospheric loss ON/OFF -- now with a switch!\n",
    "\n",
    "def f_omegatwid(x_twid, M, t):\n",
    "    \n",
    "    if atmos_loss == 0.:\n",
    "        return omg_Etwid/(f_btwid)\n",
    "    \n",
    "    else:\n",
    "        # Calculate mass of water in mantle, total mass of water\n",
    "        M_w_mantle = x_twid * 2.3e-4 * 1.3 * M\n",
    "        M_w_i = (omg_Etwid/f_btwid) * 2.3e-4 * 1.3 * M\n",
    "    \n",
    "        # Calculate water on surface, and remove a small amount.\n",
    "        M_w_surf = (M_w_i - M_w_mantle) - 1e19*t #1e19*t is safe -- roughly 1 TO lost over simulations\n",
    "    \n",
    "        # Recalculate omega after some water has been lost, and omegatwid (which is the function output).\n",
    "        M_w_f = M_w_surf + M_w_mantle\n",
    "   \n",
    "        return (M_w_f / M) / (2.3e-4 * 1.3)"
   ]
  },
  {
   "cell_type": "code",
   "execution_count": null,
   "metadata": {},
   "outputs": [],
   "source": [
    "#x_twid_array = x_array_CA\n",
    "#\n",
    "#test_omega = np.zeros(len(x_twid_array))\n",
    "#test_M_w_mantle = np.zeros(len(x_twid_array))\n",
    "#for idx in range(0, len(x_twid_array)):\n",
    "#    test_M_w_mantle[idx] = x_twid_array[idx] * 2.3e-4 * 1.3 * M_E\n",
    "#    M_w_i = (omg_Etwid/f_btwid) * 2.3e-4 * 1.3 * M_E\n",
    "#    \n",
    "#    M_w_surf = (M_w_i - test_M_w_mantle[idx]) - 1e13*idx\n",
    "#    \n",
    "#    M_w_f = M_w_surf + test_M_w_mantle[idx]\n",
    "#    \n",
    "#    test_omega[idx] = (M_w_f / M_E) / (2.3e-4 * 1.3)#"
   ]
  },
  {
   "cell_type": "code",
   "execution_count": null,
   "metadata": {},
   "outputs": [],
   "source": [
    "#x = (omg_Etwid/f_btwid) * 2.3e-4 * 1.3 * M_E\n",
    "#y = test_M_w_mantle[0]\n",
    "#d = x - y\n",
    "#print(d - 1e14*10e6)"
   ]
  },
  {
   "cell_type": "code",
   "execution_count": null,
   "metadata": {},
   "outputs": [],
   "source": [
    "#CA, coupling to T from x (but no x from T)\n",
    "mu = 1.\n",
    "sigma = 1.\n",
    "def f_M(t,x,gtwid,sigma,mu,M): #mantle water mass fraction rate of change with time\n",
    "    \n",
    "    if cycling == 0.: #water cycling OFF\n",
    "        return 0. #no cycling after setting the initial mantle water mass fraction\n",
    "    \n",
    "    else:\n",
    "        return (gtwid(M)**2.*(f_omegatwid(x,M,t)-x))**sigma - gamma*x*(gtwid(M)**2.*(f_omegatwid(x,M,t)-x))**(-mu)\n",
    "    \n",
    "def f_conv_water(t,temp,x,M): # change in temperature over heating timescale\n",
    "    #add Q(t) but ignore and water effects for now\n",
    "    return Q_0twid(M)*Qtwid(t,M) - ((np.exp(lnfugacity(x,temp))/np.exp(lnfugacity(1,T_ref)))**(beta)*(temp - T_stwid)**(beta+1.)*math.exp(-beta/T_mtwid*((1./temp) - 1.)))\n",
    "\n",
    "def f_fug(t,z,gtwid,sigma,mu,M): #overall cycling equation -- NOTE degassing = regassing = 0 above\n",
    "    #add Q(t) and water effects \n",
    "    temp = z[0]\n",
    "    x = z[1]\n",
    "    return [tau_1_inv(M)/tau_2_inv(M)*f_conv_water(t,temp,x,M),f_M(t,x,gtwid,sigma,mu,M)]"
   ]
  },
  {
   "cell_type": "code",
   "execution_count": null,
   "metadata": {},
   "outputs": [],
   "source": [
    "def dhydr_CA(t,x,M):\n",
    "    return d_hE*gtwid(M)**2.*(f_omegatwid(x,M,t)-x)**sigma"
   ]
  },
  {
   "cell_type": "code",
   "execution_count": null,
   "metadata": {},
   "outputs": [],
   "source": [
    "#x0_x,t0_x = 5.8e-4*0.68/(2.3e-4*1.3), 0.\n",
    "omegatwid = omg_Etwid/(f_btwid)\n",
    "x0_x,t0_x = omegatwid/2., 0.\n",
    "sigma = 1.\n",
    "mu = 1.\n",
    "x0,t0 = 2., 0.\n",
    "M = 1.*M_E\n",
    "z0=[x0,x0_x]\n",
    "#r = ode(f_fug,jac_fug).set_integrator('vode', with_jacobian=True)\n",
    "r = ode(f_fug).set_integrator('vode')\n",
    "#r.set_initial_value(z0, t0).set_f_params(gtwid,omegatwid,sigma,mu,M).set_jac_params(gtwid,omegatwid,sigma,mu,M)\n",
    "r.set_initial_value(z0,t0).set_f_params(gtwid,sigma,mu,M)\n",
    "t1 = 100.\n",
    "dt = 1.e-5\n",
    "t_array_CA = np.zeros(int(t1/dt))\n",
    "T_array_CA = np.zeros(int(t1/dt))\n",
    "x_array_CA = np.zeros(int(t1/dt))\n",
    "omegatwid_array_CA = np.zeros(int(t1/dt))\n",
    "in_array_CA = np.zeros(int(t1/dt))\n",
    "out_array_CA = np.zeros(int(t1/dt))\n",
    "d_hydr_CA = np.zeros(int(t1/dt))\n",
    "eta_array_CA = np.zeros(int(t1/dt))\n",
    "idx = 0\n",
    "while r.successful() and r.t < t1:\n",
    "    r.integrate(r.t+dt)\n",
    "    t_array_CA[idx] = r.t\n",
    "    T_array_CA[idx] = r.y[0]\n",
    "    x_array_CA[idx] = r.y[1]\n",
    "    omegatwid_array_CA[idx] = f_omegatwid(r.y[1],M,r.t)\n",
    "    in_array_CA[idx] = (gtwid(M)**2.*(f_omegatwid(r.y[1],M,r.t))-r.y[1])**sigma\n",
    "    out_array_CA[idx] = gamma*r.y[1]*(gtwid(M)**2.*(f_omegatwid(r.y[1],M,r.t))-r.y[1])**(-mu)\n",
    "    d_hydr_CA[idx] = dhydr_CA(r.t,r.y[1],M)\n",
    "    eta_array_CA[idx] = eta(r.y[1], r.y[0])\n",
    "    idx = idx + 1\n",
    "    #print(r.t, r.y)"
   ]
  },
  {
   "cell_type": "code",
   "execution_count": null,
   "metadata": {},
   "outputs": [],
   "source": [
    "## %matplotlib inline\n",
    "plt.rc('font', family='serif')\n",
    "plt.rc('xtick', labelsize=16)\n",
    "plt.rc('ytick', labelsize=16)\n",
    "fig = plt.figure(figsize=(17,7.5))\n",
    "plt.tight_layout()\n",
    "fig = plt.figure(figsize=(8.5,7.5))\n",
    "plt.semilogx(t_array_CA*2.87, T_array_CA*1600., color='purple')\n",
    "plt.ylim([800,3300])\n",
    "plt.xlabel('Time [Gyr]', fontsize=16)\n",
    "plt.ylabel('Mantle Temperature [K]', fontsize=16)"
   ]
  },
  {
   "cell_type": "code",
   "execution_count": null,
   "metadata": {},
   "outputs": [],
   "source": [
    "tmp_time_array = t_array_CA\n",
    "tmp_temp_array = T_array_CA\n",
    "%store tmp_time_array\n",
    "%store tmp_temp_array"
   ]
  },
  {
   "cell_type": "code",
   "execution_count": null,
   "metadata": {},
   "outputs": [],
   "source": [
    "print(T_array_CA[0]*1600., T_array_CA[-1]*1600.)"
   ]
  },
  {
   "cell_type": "code",
   "execution_count": null,
   "metadata": {},
   "outputs": [],
   "source": [
    "%matplotlib inline\n",
    "plt.rc('font', family='serif')\n",
    "plt.rc('xtick', labelsize=16)\n",
    "plt.rc('ytick', labelsize=16)\n",
    "fig = plt.figure(figsize=(16,7.5))\n",
    "plt.tight_layout()\n",
    "ax = [fig.add_subplot(2,2,i+1) for i in range(2)]\n",
    "fig.subplots_adjust(hspace=0)\n",
    "\n",
    "s_array_CA = np.multiply(gtwid(M_E),np.subtract(omegatwid_array_CA,x_array_CA))\n",
    "\n",
    "kg_conv = 2.3e-4*1.3*M_E\n",
    "\n",
    "ax = plt.subplot(1,2,1)\n",
    "plt.semilogx(t_array_CA*2.87, (x_array_CA*kg_conv/1000./1.0e18), linewidth=3, color='b', linestyle='--', label='Mantle')\n",
    "plt.semilogx(t_array_CA*2.87, (s_array_CA*kg_conv/1000./1.0e18), linewidth=3, color='r', linestyle=':', label='Surface')\n",
    "plt.xlabel('Time [Gyr]', fontsize=16)\n",
    "plt.ylabel('Water Mass [exatons]', fontsize=16)\n",
    "plt.legend(loc='lower left', fontsize=16)\n",
    "\n",
    "# Conversion factor for degassing and regassing to units: (mass transport flux in [kg m^-2 s^-1])\n",
    "# degassing: (kg_conv**2)/(9.8**2)...\n",
    "# regassing: (kg_conv**2)/(9.8**2)\n",
    "\n",
    "dr_conv = (3*np.pi*(6.3781e6)*(0.1/31536000.)*0.05*3.0e3*0.23*3.0e3/0.68) #[kg/s]\n",
    "mol_yr_conv = (3153600./0.01801528) # convert [kg/s] to [mol/yr]\n",
    "exa_gyr_conv = (3153600.*1.0e9/(1000.*1.0e18)) # convert [kg/s] to [exatons/Gyr]\n",
    "\n",
    "ax = plt.subplot(1,2,2)\n",
    "plt.semilogx(t_array_CA*2.87, (out_array_CA*dr_conv*exa_gyr_conv), linewidth=3, color='b', linestyle='--', label='Degas')\n",
    "plt.semilogx(t_array_CA*2.87, (in_array_CA*dr_conv*exa_gyr_conv), linewidth=3, color='r', linestyle=':', label='Regas')\n",
    "plt.xlabel('Time [Gyr]', fontsize=16)\n",
    "plt.ylabel('Flux Rate [exatons/Gyr]', fontsize=16)\n",
    "plt.legend(loc='lower right', fontsize=16)"
   ]
  },
  {
   "cell_type": "code",
   "execution_count": null,
   "metadata": {},
   "outputs": [],
   "source": [
    "M_E = 5.972e24\n",
    "R_E = 6.371e6\n",
    "x_h = 0.05\n",
    "rho_c = 3.e3\n",
    "chi = 0.23\n",
    "d_hE = 3e3\n",
    "rho_m = 3.3e3\n",
    "d_melt = 60.e3\n",
    "f_degasE = 0.9\n",
    "G = 6.67e-11\n",
    "P_E = 4.e7\n",
    "f_M = 0.68\n",
    "f_b = 0.9\n",
    "omega_0 = 2.3e-4\n",
    "f_btwid = 1.3\n",
    "year = 3.154e+7\n",
    "omg_Etwid = 6.2e-4/2.3e-4"
   ]
  },
  {
   "cell_type": "code",
   "execution_count": null,
   "metadata": {},
   "outputs": [],
   "source": [
    "def M_hydr(d_h):\n",
    "    return 4./3.*math.pi*(R_E**3. - (R_E-d_h)**3.)*x_h*rho_m\n",
    "i = 0\n",
    "M_hydr_SS = []\n",
    "M_hydr_CA = []\n",
    "M_hydr_hyb = []\n",
    "while i < len(t_array_SS):\n",
    "    M_hydr_SS.append(M_hydr(d_hydr_SS[i]))\n",
    "    M_hydr_hyb.append(M_hydr(d_hydr_hyb[i]))\n",
    "    M_hydr_CA.append(M_hydr(d_hydr_CA[i]))\n",
    "    i = i + 1\n",
    "#M_hydr_twid = M_hydr/M_E\n",
    "#print M_hydr_twid"
   ]
  },
  {
   "cell_type": "code",
   "execution_count": null,
   "metadata": {},
   "outputs": [],
   "source": [
    "M_hydr = 4./3.*math.pi*(R_E**3. - (R_E-d_hydr_hyb[-1])**3.)*x_h*rho_c\n",
    "M_hydr_twid = M_hydr/M_E\n",
    "#print M_hydr_twid\n",
    "#print omegatwid - x_array_hyb[-1]"
   ]
  },
  {
   "cell_type": "code",
   "execution_count": null,
   "metadata": {},
   "outputs": [],
   "source": [
    "# Need a negative number check for the surface water depth.\n",
    "# If they go negative, just set to zero -- planet is dessicated.\n",
    "# XXX Should I be doing this check somewhere during the simulations? XXX\n",
    "\n",
    "surface_array_SS = np.multiply(gtwid(M_E),np.subtract(omegatwid_array_SS,x_array_SS))\n",
    "surface_array_hyb = np.multiply(gtwid(M_E),np.subtract(omegatwid_array_hyb,x_array_hyb))\n",
    "surface_array_CA = np.multiply(gtwid(M_E),np.subtract(omegatwid_array_CA,x_array_CA))\n",
    "\n",
    "# Now if it goes negative, set to 0. XXXX THIS CAN BE MADE MORE ROBUST LATER, WITH CHECKS FARTHER UP XXXX\n",
    "surface_array_SS[surface_array_SS<0.] = 0.\n",
    "surface_array_hyb[surface_array_hyb<0.] = 0.\n",
    "surface_array_CA[surface_array_CA<0.] = 0."
   ]
  },
  {
   "cell_type": "code",
   "execution_count": null,
   "metadata": {
    "scrolled": false
   },
   "outputs": [],
   "source": [
    "matplotlib.rc('xtick', labelsize=16) \n",
    "matplotlib.rc('ytick', labelsize=16) \n",
    "font = {'family' : 'normal',\n",
    "        'weight' : 'normal',\n",
    "        'size'   : 20}\n",
    "matplotlib.rc('font', **font)\n",
    "fig = plt.figure()\n",
    "fig.set_size_inches(16,15)\n",
    "ax1 = fig.add_subplot(221)\n",
    "nlines = 3\n",
    "colormap = plt.cm.gnuplot\n",
    "ax1.set_color_cycle([colormap(i) for i in np.linspace(0., 0.85, nlines)])\n",
    "ax1.semilogx(np.multiply(t_array_SS,tau_1_inv(M_E)/(3.156e7*1.e9)),T_array_SS,label=r'$\\mathrm{T-dependent}$',linewidth=3)\n",
    "ax1.semilogx(np.multiply(t_array_hyb,tau_1_inv(M_E)/(3.156e7*1.e9)),T_array_hyb,label=r'$\\mathrm{hybrid}$',linewidth=3)\n",
    "ax1.semilogx(np.multiply(t_array_CA,tau_1_inv(M_E)/(3.156e7*1.e9)),T_array_CA,label=r'$\\mathrm{P-dependent}$',linewidth=3)\n",
    "\n",
    "ax2 = fig.add_subplot(222)\n",
    "ax2.axhline(1.3,linewidth=3,color='k',linestyle='--')\n",
    "nlines = 3\n",
    "colormap = plt.cm.gnuplot\n",
    "ax2.set_color_cycle([colormap(i) for i in np.linspace(0., 0.85, nlines)])\n",
    "ax2.semilogx(np.multiply(t_array_SS,tau_1_inv(M_E)/(3.156e7*1.e9)),x_array_SS,label=r'$\\tilde{M} = 0.5$',linewidth=3)\n",
    "ax2.semilogx(np.multiply(t_array_hyb,tau_1_inv(M_E)/(3.156e7*1.e9)),x_array_hyb,label=r'$\\tilde{M} = 1$',linewidth=3)\n",
    "ax2.semilogx(np.multiply(t_array_CA,tau_1_inv(M_E)/(3.156e7*1.e9)),x_array_CA,label=r'$\\tilde{M} = 5$',linewidth=3)\n",
    "\n",
    "ax3 = fig.add_subplot(223)\n",
    "#ax3.axhline(0.75,linewidth=3,color='k',linestyle='--')\n",
    "nlines = 3\n",
    "colormap = plt.cm.gnuplot\n",
    "ax3.set_color_cycle([colormap(i) for i in np.linspace(0., 0.85, nlines)])\n",
    "ax3.semilogx(t_array_SS,surface_array_SS,label=r'$\\mathrm{Surface} \\ \\mathrm{water}$',linewidth=3)\n",
    "ax3.semilogx(t_array_hyb,surface_array_hyb,linewidth=3)\n",
    "ax3.semilogx(t_array_CA,surface_array_CA,linewidth=3)\n",
    "nlines = 3\n",
    "colormap = plt.cm.gnuplot\n",
    "ax3.set_color_cycle([colormap(i) for i in np.linspace(0., 0.85, nlines)])\n",
    "ax3.semilogx(t_array_SS,np.multiply(M_hydr_SS,1./(omega_0*f_btwid*M_E)),linewidth=3,label=r'$\\mathrm{Hydrated} \\ \\mathrm{layer}$',linestyle='--')\n",
    "ax3.semilogx(t_array_hyb,np.multiply(M_hydr_hyb,1./(omega_0*f_btwid*M_E)),linewidth=3,linestyle='--')\n",
    "ax3.semilogx(t_array_CA,np.multiply(M_hydr_CA,1./(omega_0*f_btwid*M_E)),linewidth=3,linestyle='--')\n",
    "\n",
    "ax4 = fig.add_subplot(224)\n",
    "#ax4.axhline(1.,linewidth=3,color='k',linestyle='--')\n",
    "nlines = 3\n",
    "colormap = plt.cm.gnuplot\n",
    "ax4.set_color_cycle([colormap(i) for i in np.linspace(0., 0.85, nlines)])\n",
    "ax4.loglog(t_array_SS,in_array_SS,label=r'$\\mathrm{regassing}$',linewidth=3)\n",
    "ax4.loglog(t_array_hyb,in_array_hyb,linewidth=3)\n",
    "ax4.loglog(t_array_CA,in_array_CA,linewidth=3)\n",
    "ax4.loglog(t_array_SS,out_array_SS,label=r'$\\mathrm{degassing}$',linestyle='--',linewidth=3)\n",
    "ax4.loglog(t_array_hyb,out_array_hyb,linestyle='--',linewidth=3)\n",
    "ax4.loglog(t_array_CA,out_array_CA,linestyle='--',linewidth=3)\n",
    "\n",
    "#ax3.axvline(1.,linewidth=3,color='k',linestyle='--')\n",
    "#ax4.axvline(1.,linewidth=3,color='k',linestyle='--')\n",
    "\n",
    "#ax1.legend(numpoints=1,ncol=1, loc=3, \n",
    " #          borderaxespad=0.5,prop={'size':16})\n",
    "ax4.set_xlabel(r'$\\mathrm{Time} \\ \\tau$')\n",
    "ax3.set_xlabel(r'$\\mathrm{Time} \\ \\tau$')\n",
    "ax1.set_xlabel(r'$\\mathrm{Time} \\ [\\mathrm{Gyr}]$')\n",
    "ax2.set_xlabel(r'$\\mathrm{Time} \\ [\\mathrm{Gyr}]$')\n",
    "\n",
    "\n",
    "\n",
    "ax4.set_ylabel(r'$\\mathrm{Regassing} \\ \\mathrm{flux} \\ \\tilde{F}_{\\downarrow}, \\ \\mathrm{Degassing} \\ \\mathrm{flux} \\ \\tilde{F}_{\\uparrow}$')\n",
    "\n",
    "\n",
    "ax2.set_ylabel(r'$\\mathrm{Mantle} \\ \\mathrm{water} \\ \\mathrm{mass} \\ \\mathrm{fraction} \\ \\ \\tilde{x}$')\n",
    "ax3.set_ylabel(r'$\\mathrm{Ocean} \\ \\mathrm{depth} \\ \\ \\tilde{d}_{\\mathrm{w}}, \\ \\mathrm{Hydrated} \\ \\mathrm{layer} \\ \\mathrm{water} \\ \\mathrm{fraction} \\ \\tilde{\\omega}_{\\mathrm{hyd}}}$')\n",
    "\n",
    "\n",
    "ax1.legend(numpoints=1,ncol=1, loc=3, \n",
    "           borderaxespad=1.,prop={'size':18})\n",
    "ax3.legend(numpoints=1,ncol=1, loc=3, bbox_to_anchor=(.05, 0.1), \n",
    "           borderaxespad=0.,prop={'size':18})\n",
    "ax4.legend(numpoints=1,ncol=1, loc=3, \n",
    "           borderaxespad=1.,prop={'size':18})\n",
    "\n",
    "\n",
    "#ax1.set_xlabel(r'$\\tau$')\n",
    "ax1.set_ylabel(r'$\\mathrm{Mantle} \\ \\mathrm{temperature} \\ \\ \\tilde{T}$')\n",
    "ax1.set_ylim(0.5,2.1)\n",
    "ax1.set_xlim(1.e-5*tau_1_inv(M_E)/(3.156e7*1.e9),1.e2*tau_1_inv(M_E)/(3.156e7*1.e9))\n",
    "ax2.set_xlim(1.e-5*tau_1_inv(M_E)/(3.156e7*1.e9),1.e2*tau_1_inv(M_E)/(3.156e7*1.e9))\n",
    "ax1.xaxis.tick_top()\n",
    "ax1.xaxis.set_label_position('top') \n",
    "ax2.xaxis.tick_top()\n",
    "ax2.xaxis.set_label_position('top') \n",
    "ax1.tick_params(\n",
    "    axis='x',          # changes apply to the x-axis\n",
    "    which='both',      # both major and minor ticks are affected\n",
    "    bottom='off',      # ticks along the bottom edge are off\n",
    "    top='on',         # ticks along the top edge are off\n",
    "    labelbottom='off')\n",
    "ax2.tick_params(\n",
    "    axis='x',          # changes apply to the x-axis\n",
    "    which='both',      # both major and minor ticks are affected\n",
    "    bottom='off',      # ticks along the bottom edge are off\n",
    "    top='on',         # ticks along the top edge are off\n",
    "    labelbottom='off')\n",
    "ax3.tick_params(\n",
    "    axis='x',          # changes apply to the x-axis\n",
    "    which='both',      # both major and minor ticks are affected\n",
    "    bottom='on',      # ticks along the bottom edge are off\n",
    "    top='off')\n",
    "ax4.tick_params(\n",
    "    axis='x',          # changes apply to the x-axis\n",
    "    which='both',      # both major and minor ticks are affected\n",
    "    bottom='on',      # ticks along the bottom edge are off\n",
    "    top='off')\n",
    "\n",
    "\n",
    "\n",
    "#ax2.set_ylim(0.,omegatwid)\n",
    "#ax1.get_xaxis().set_ticks([])\n",
    "#ax2.get_xaxis().set_ticks([])\n",
    "#ax3.get_xaxis().set_ticks([])\n",
    "ax4.set_ylim(1.e-6,1.e4)\n",
    "\n",
    "\n",
    "\n",
    "\n",
    "fig.tight_layout()\n",
    "\n",
    "# Use this for the default water-cycling with atmospheric loss.\n",
    "#savefig('comparison_xT_tau_waterdepth_4col.pdf',bbox_inches='tight')\n",
    "\n",
    "# Use this for extreme water loss, i.e. definite desiccation.\n",
    "savefig('comparison_xT_tau_waterdepth_4col_cycling_noloss.pdf',bbox_inches='tight')"
   ]
  },
  {
   "cell_type": "code",
   "execution_count": null,
   "metadata": {
    "scrolled": false
   },
   "outputs": [],
   "source": [
    "# Make some plots with physical units instead.\n",
    "#Timescales are as follows, for tau=1:\n",
    "#SS: 2.22 Gyr\n",
    "#hyb: 2.22 Gyr\n",
    "#CA: 2.87 Gyr\n",
    "#Make some plots with physical units instead.\n",
    "#Timescales are as follows, for tau=1:\n",
    "#SS: 2.22 Gyr\n",
    "#hyb: 2.22 Gyr\n",
    "#CA: 2.87 Gyr\n",
    "%matplotlib inline\n",
    "plt.rc('font', family='serif')\n",
    "plt.rc('xtick', labelsize=16)\n",
    "plt.rc('ytick', labelsize=16)\n",
    "fig = plt.figure(figsize=(16,15))\n",
    "plt.tight_layout()\n",
    "ax = [fig.add_subplot(2,2,i+1) for i in range(4)]\n",
    "fig.subplots_adjust(hspace=0)\n",
    "\n",
    "# Mantle temperature T_ref = 1600 K. Multiply by T_ref (T_twid normalized to this value.)\n",
    "ax = plt.subplot(2,2,1)\n",
    "plt.semilogx(t_array_SS*2.22,T_array_SS*1600,label='T-dependent',linewidth=3,color='red',linestyle=':')\n",
    "plt.semilogx(t_array_hyb*2.22,T_array_hyb*1600,label='hybrid',linewidth=3,color='purple',linestyle='-.')\n",
    "plt.semilogx(t_array_CA*2.87,T_array_CA*1600,label='P-dependent',linewidth=3,color='blue',linestyle='--')\n",
    "#plt.xlabel('Time [Gyr]', fontsize=16)\n",
    "ax.set_xticklabels([])\n",
    "plt.ylabel('Mantle Temperature [K]', fontsize=16)\n",
    "plt.legend(loc='lower left', fontsize=16)\n",
    "\n",
    "# Mantle viscosity (this should already be in its physical units based on the way I calculate it) -- [m^2/s]\n",
    "# XXX Can normalize this to Earth for better understanding, or leave in these units XXX\n",
    "ax = plt.subplot(2,2,2)\n",
    "plt.semilogx(t_array_SS*2.22,eta_array_SS,label='T-dependent',linewidth=3,color='red',linestyle=':')\n",
    "plt.semilogx(t_array_hyb*2.22,eta_array_hyb,label='hybrid',linewidth=3,color='purple',linestyle='-.')\n",
    "plt.semilogx(t_array_CA*2.87,eta_array_CA,label='P-dependent',linewidth=3,color='blue',linestyle='--')\n",
    "#plt.xlabel('Time [Gyr]', fontsize=16)\n",
    "ax.set_xticklabels([])\n",
    "ax.set_yscale('log')\n",
    "plt.ylabel(r'Mantle Viscosity [$\\rm{m}^2/\\rm{s}$]',fontsize=16)\n",
    "\n",
    "# Mantle water fraction of one Earth ocean at x_twid=1.32. XXX DOUBLE-CHECK THIS -- THIS IS WRONG XXX\n",
    "ax = plt.subplot(2,2,3)\n",
    "plt.semilogx(t_array_SS*2.22,x_array_SS/1.32,linewidth=3,label='T-dependent',color='red',linestyle=':')\n",
    "plt.semilogx(t_array_hyb*2.22,x_array_hyb/1.32,linewidth=3,label='hybrid',color='purple',linestyle='-.')\n",
    "plt.semilogx(t_array_CA*2.87,x_array_CA/1.32,linewidth=3,label='P-dependent',color='blue',linestyle='--')\n",
    "plt.xlabel('Time [Gyr]', fontsize=16)\n",
    "plt.ylabel('Mantle Water Content [Earth Ocean Masses]', fontsize=16)\n",
    "#plt.legend(loc='upper left', fontsize=16)\n",
    "\n",
    "# Ocean depth of Earth taken as 4 km in paper.\n",
    "ax = plt.subplot(2,2,4)\n",
    "plt.semilogx(t_array_SS*2.22,surface_array_SS*4,linewidth=3,label='T-dependent',color='red',linestyle=':')\n",
    "plt.semilogx(t_array_hyb*2.22,surface_array_hyb*4,linewidth=3,label='hybrid',color='purple',linestyle='-.')\n",
    "plt.semilogx(t_array_CA*2.87,surface_array_CA*4,linewidth=3,label='P-dependent',color='blue',linestyle='--')\n",
    "plt.xlabel('Time [Gyr]', fontsize=16)\n",
    "plt.ylabel('Ocean depth [km]',fontsize=16)\n",
    "#plt.legend(loc='lower left',fontsize=16)\n",
    "\n",
    "plt.savefig('Mantle_Surface_Water_Dimensions_Cycling_NoLoss.pdf', bbox_inches='tight') # Change name for different runs. runs."
   ]
  },
  {
   "cell_type": "code",
   "execution_count": null,
   "metadata": {},
   "outputs": [],
   "source": [
    "s_array_CA = omegatwid_array_CA - x_array_CA\n",
    "s_array_SS = omegatwid_array_SS - x_array_SS\n",
    "s_array_hyb = omegatwid_array_hyb - x_array_hyb\n",
    "\n",
    "%matplotlib inline\n",
    "plt.rc('font', family='serif')\n",
    "plt.rc('xtick', labelsize=16)\n",
    "plt.rc('ytick', labelsize=16)\n",
    "fig = plt.figure(figsize=(17,15))\n",
    "plt.tight_layout()\n",
    "ax = [fig.add_subplot(2,2,i+1) for i in range(4)]\n",
    "fig.subplots_adjust(hspace=0)\n",
    "\n",
    "kg_conv = 2.3e-4*1.3*M_E #[kg]\n",
    "\n",
    "ax = plt.subplot(2,2,1)\n",
    "plt.semilogx(t_array_CA*2.87, (x_array_CA*kg_conv/1000./1.0e18), linewidth=3, color='b', linestyle='--', label='P-dependent')\n",
    "plt.semilogx(t_array_hyb*2.22, (x_array_hyb*kg_conv/1000./1.0e18), linewidth=3, color='purple', linestyle='-.', label='hybrid')\n",
    "plt.semilogx(t_array_SS*2.22, (x_array_SS*kg_conv/1000./1.0e18), linewidth=3, color='r', linestyle=':', label='T-dependent')\n",
    "plt.semilogx([1e-5, 287], [1.32*kg_conv/1000./1.0e18, 1.32*kg_conv/1000./1.0e18], color='k', linestyle='--', label='Earth Mantle Water')\n",
    "plt.xlabel('Time [Gyr]', fontsize=16)\n",
    "plt.ylabel(r'Mantle Water Mass [$10^{21}$ kg]', fontsize=16)\n",
    "plt.legend(loc='upper left', fontsize=15)\n",
    "\n",
    "ax = plt.subplot(2,2,2)\n",
    "plt.semilogx(t_array_CA*2.87, (s_array_CA*kg_conv/1000./1.0e18), linewidth=3, color='b', linestyle='--', label='P-dependent')\n",
    "plt.semilogx(t_array_hyb*2.22, (s_array_hyb*kg_conv/1000./1.0e18), linewidth=3, color='purple', linestyle='-.', label='hybrid')\n",
    "plt.semilogx(t_array_SS*2.22, (s_array_SS*kg_conv/1000./1.0e18), linewidth=3, color='r', linestyle=':', label='T-dependent')\n",
    "plt.semilogx([1e-5, 287], [1.39, 1.39], color='k', linestyle='--', label='Earth Surface Water')\n",
    "plt.xlabel('Time [Gyr]', fontsize=16)\n",
    "plt.ylabel(r'Surface Water Mass [$10^{21}$ kg]', fontsize=16)\n",
    "plt.legend(loc='lower left', fontsize=15)\n",
    "\n",
    "dr_conv = (3*np.pi*(6.3781e6)*(0.1/31536000.)*0.05*3.0e3*0.23*3.0e3/0.68) #[kg/s]\n",
    "exa_gyr_conv = (3153600.*1.0e9/(1000.*1.0e18)) # convert [kg/s] to [exatons/Gyr]\n",
    "\n",
    "ax = plt.subplot(2,2,3)\n",
    "plt.loglog(t_array_CA*2.87, (out_array_CA*dr_conv*exa_gyr_conv), linewidth=3, color='b', linestyle='--', label='P-dependent')\n",
    "plt.loglog(t_array_hyb*2.22, (out_array_hyb*dr_conv*exa_gyr_conv), linewidth=3, color='purple', linestyle='-.', label='hybrid')\n",
    "plt.loglog(t_array_SS*2.22, (out_array_SS*dr_conv*exa_gyr_conv), linewidth=3, color='r', linestyle=':', label='T-dependent')\n",
    "plt.xlabel('Time [Gyr]', fontsize=16)\n",
    "plt.ylabel(r'Degassing Rate [$10^{21}$ kg/Gyr]', fontsize=16)\n",
    "plt.ylim([1e-6, 1e3])\n",
    "plt.legend(loc='upper right', fontsize=16)\n",
    "\n",
    "plt.subplot(2,2,4)\n",
    "plt.loglog(t_array_CA*2.87, (in_array_CA*dr_conv*exa_gyr_conv), linewidth=3, color='b', linestyle='--', label='P-dependent')\n",
    "plt.loglog(t_array_hyb*2.22, (in_array_hyb*dr_conv*exa_gyr_conv), linewidth=3, color='purple', linestyle='-.', label='hybrid')\n",
    "plt.loglog(t_array_SS*2.22, (in_array_SS*dr_conv*exa_gyr_conv), linewidth=3, color='r', linestyle=':', label='T-dependent')\n",
    "plt.xlabel('Time [Gyr]', fontsize=16)\n",
    "plt.ylabel(r'Regassing Rate Rate [$10^{21}$ kg/Gyr]', fontsize=16)\n",
    "plt.legend(loc='lower left', fontsize=16)\n",
    "\n",
    "plt.savefig('Presentation_allmodels_cycling_noloss_watercontent.pdf', bbox_inches='tight')\n"
   ]
  },
  {
   "cell_type": "code",
   "execution_count": null,
   "metadata": {},
   "outputs": [],
   "source": [
    "# 1) TURN OFF ALL CYCLING & LOSS, AND SEE WHAT HAPPENS TO THE MANTLE TEMP (MAKE SURE IT IS COUPLED/SELF-CONSISTENT)\n",
    "# 2) TEST EVEN MORE RAPID WATER LOSS/VERY SLOW WATER LOSS.\n",
    "# 3) PLOT MANTLE VISCOSITY ALONG WITH MANTLE TEMPERATURE (POSSIBLY IN SAME SUBPLOT)"
   ]
  },
  {
   "cell_type": "code",
   "execution_count": null,
   "metadata": {},
   "outputs": [],
   "source": [
    "%matplotlib inline\n",
    "plt.rc('font', family='serif')\n",
    "plt.rc('xtick', labelsize=16)\n",
    "plt.rc('ytick', labelsize=16)\n",
    "fig = plt.figure(figsize=(17,7.5))\n",
    "plt.tight_layout()\n",
    "ax = [fig.add_subplot(1,2,i+1) for i in range(2)]\n",
    "fig.subplots_adjust(hspace=0)\n",
    "\n",
    "dr_conv = (3*np.pi*(6.3781e6)*(0.1/31536000.)*0.05*3.0e3*0.23*3.0e3/0.68) #[kg/s]\n",
    "exa_gyr_conv = (3153600.*1.0e9/(1000.*1.0e18)) # convert [kg/s] to [exatons/Gyr]\n",
    "\n",
    "ax = plt.subplot(1,2,1)\n",
    "plt.loglog(t_array_CA*2.87, (out_array_CA*dr_conv*exa_gyr_conv), linewidth=3, color='b', linestyle='--', label='P-dependent')\n",
    "plt.loglog(t_array_hyb*2.22, (out_array_hyb*dr_conv*exa_gyr_conv), linewidth=3, color='purple', linestyle='-.', label='hybrid')\n",
    "plt.loglog(t_array_SS*2.22, (out_array_SS*dr_conv*exa_gyr_conv), linewidth=3, color='r', linestyle=':', label='T-dependent')\n",
    "plt.xlabel('Time [Gyr]', fontsize=16)\n",
    "plt.ylabel(r'Degassing Rate [$10^{21}$ kg/Gyr]', fontsize=16)\n",
    "plt.ylim([1e-6, 1e3])\n",
    "plt.legend(loc='upper right', fontsize=16)\n",
    "\n",
    "plt.subplot(1,2,2)\n",
    "plt.loglog(t_array_CA*2.87, (in_array_CA*dr_conv*exa_gyr_conv), linewidth=3, color='b', linestyle='--', label='P-dependent')\n",
    "plt.loglog(t_array_hyb*2.22, (in_array_hyb*dr_conv*exa_gyr_conv), linewidth=3, color='purple', linestyle='-.', label='hybrid')\n",
    "plt.loglog(t_array_SS*2.22, (in_array_SS*dr_conv*exa_gyr_conv), linewidth=3, color='r', linestyle=':', label='T-dependent')\n",
    "plt.xlabel('Time [Gyr]', fontsize=16)\n",
    "plt.ylabel(r'Regassing Rate Rate [$10^{21}$ kg/Gyr]', fontsize=16)\n",
    "plt.legend(loc='lower left', fontsize=16)\n",
    "\n",
    "plt.savefig('Presentation_allmodels_cycling_noloss_degas_regas.pdf', bbox_inches='tight')"
   ]
  },
  {
   "cell_type": "code",
   "execution_count": null,
   "metadata": {},
   "outputs": [],
   "source": [
    "#print(np.shape(omegatwid), np.min(omegatwid), np.max(omegatwid))\n",
    "#print(np.shape(x_array_hyb), np.min(x_array_hyb), np.max(x_array_hyb))\n",
    "# Save these for easier plotting in the next cell.\n",
    "#t_tau_hyb = np.multiply(t_array_hyb,tau_1_inv(M_E)/(3.156e7*1.e9))\n",
    "#omega_x_hyb = np.subtract(omegatwid,x_array_hyb)\n",
    "#print(omegatwid)\n",
    "#print(r.t)"
   ]
  },
  {
   "cell_type": "code",
   "execution_count": null,
   "metadata": {},
   "outputs": [],
   "source": [
    "%matplotlib inline\n",
    "\n",
    "matplotlib.rc('xtick', labelsize=16) \n",
    "matplotlib.rc('ytick', labelsize=16) \n",
    "font = {'family' : 'normal',\n",
    "        'weight' : 'normal',\n",
    "        'size'   : 20}\n",
    "\n",
    "plt.figure(figsize=(12,6))\n",
    "plt.subplot(121)\n",
    "#plt.semilogx(t_array_SS,np.multiply(gtwid(M_E),np.subtract(omegatwid,x_array_SS)),label=r'$\\mathrm{Surface} \\ \\mathrm{water}$',linewidth=3, color='r')\n",
    "#plt.semilogx(t_array_hyb,np.multiply(gtwid(M_E),np.subtract(omegatwid,x_array_hyb)),linewidth=3, color='k')\n",
    "plt.semilogx(t_array_hyb,omega_x_hyb,linewidth=3, color='b')\n",
    "#plt.semilogx(t_array_CA,np.multiply(gtwid(M_E),np.subtract(omegatwid,x_array_CA)),linewidth=3, color='b')\n",
    "plt.xlabel(r'$\\mathrm{Time} \\ \\tau$')\n",
    "#plt.ylabel(r'$\\mathrm{Ocean} \\ \\mathrm{depth} \\ \\ \\tilde{d}_{\\mathrm{w}}, \\ \\mathrm{Hydrated} \\ \\mathrm{layer} \\ \\mathrm{water} \\ \\mathrm{fraction} \\ \\tilde{\\omega}_{\\mathrm{hyd}}}$')\n",
    "plt.ylabel(r'$\\mathrm{Surface water mass fraction} \\tilde{\\omega} - \\tilde{x}$')\n",
    "\n",
    "plt.subplot(122)\n",
    "plt.semilogx(t_tau_hyb,x_array_hyb,linewidth=3)\n",
    "plt.xlabel(r'$\\mathrm{Time} \\ \\tau$')\n",
    "plt.ylabel(r'$\\mathrm{Mantle water mass fraction} \\tilde{x}$')\n",
    "plt.savefig('SurfaceWater_and_MantleWater.png')\n",
    "\n",
    "#plt.legend(numpoints=1,ncol=1, loc=3, bbox_to_anchor=(.05, 0.1), \n",
    "#           borderaxespad=0.,prop={'size':18})"
   ]
  },
  {
   "cell_type": "code",
   "execution_count": null,
   "metadata": {},
   "outputs": [],
   "source": [
    "# Commented out r and r.set... lines commented back in, with the others commented out, to see what it outputs.\n",
    "\n",
    "#x0_x,t0_x = 5.8e-4*0.68/(2.3e-4*1.3), 0.\n",
    "omegatwid = omg_Etwid/(f_btwid)\n",
    "x0_x,t0_x = omegatwid/2., 0.\n",
    "sigma = 1.\n",
    "mu = 1.\n",
    "x0,t0 = 2., 0.\n",
    "M = 1.*M_E\n",
    "z0=[x0,x0_x]\n",
    "#r = ode(f_fug).set_integrator('vode', with_jacobian=True)\n",
    "r = ode(f_all_wat_feed_hybrid).set_integrator('vode')\n",
    "#r.set_initial_value(z0, t0).set_f_params(gtwid,omegatwid,sigma,mu,M).set_jac_params(gtwid,omegatwid,sigma,mu,M)\n",
    "r.set_initial_value(z0,t0).set_f_params(M)\n",
    "t1 = 100.\n",
    "dt = 1.e-5\n",
    "t_array_hyb_new = np.zeros(int(t1/dt))\n",
    "T_array_hyb_new = np.zeros(int(t1/dt))\n",
    "x_array_hyb_new = np.zeros(int(t1/dt))\n",
    "in_array_hyb_new = np.zeros(int(t1/dt))\n",
    "out_array_hyb_new = np.zeros(int(t1/dt))\n",
    "d_hydr_hyb_new = np.zeros(int(t1/dt))\n",
    "idx = 0\n",
    "while r.successful() and r.t < t1:\n",
    "    r.integrate(r.t+dt)\n",
    "    t_array_hyb_new[idx] = r.t\n",
    "    T_array_hyb_new[idx] =r.y[0]\n",
    "    x_array_hyb_new[idx] = r.y[1]\n",
    "    in_array_hyb_new[idx] = f_M_feed_hybrid_in(r.t,r.y[0],r.y[1],M)\n",
    "    out_array_hyb_new[idx] = f_M_feed_hybrid_out(r.t,r.y[0],r.y[1],M)\n",
    "    d_hydr_hyb_new[idx] = dhydr_real(r.y[0],r.y[1],M)\n",
    "    idx = idx + 1\n",
    "    \n",
    "plt.figure(figsize=(12,6))\n",
    "plt.subplot(121)\n",
    "plt.semilogx(t_array_hyb_new[0::50], x_array_hyb_new[0::50], 'b')\n",
    "plt.subplot(122)\n",
    "plt.semilogx(t_array_hyb_new[0::50], np.subtract(omegatwid,x_array_hyb_new[0::50]), 'k')"
   ]
  },
  {
   "cell_type": "code",
   "execution_count": null,
   "metadata": {},
   "outputs": [],
   "source": [
    "plt.figure(figsize=(12,6))\n",
    "plt.subplot(121)\n",
    "plt.semilogx(t_array_hyb[0::100], x_array_hyb[0::100], 'b')\n",
    "plt.subplot(122)\n",
    "plt.semilogx(t_array_hyb[0::100], np.subtract(omegatwid,x_array_hyb[0::100]), 'k')"
   ]
  },
  {
   "cell_type": "code",
   "execution_count": null,
   "metadata": {},
   "outputs": [],
   "source": [
    "# Try to have timesteps in log-time, equally spaced when plotted.\n",
    "# Analytic way to estimate timestep/error? Estimate of what our time resolution needs to be. \n",
    "# --> Look into numerical methods to a priori determine the timestep.\n",
    "# Fix integration loop to not append."
   ]
  },
  {
   "cell_type": "code",
   "execution_count": null,
   "metadata": {},
   "outputs": [],
   "source": [
    "plt.figure(figsize=(12,6))\n",
    "plt.subplot(121)\n",
    "plt.semilogx(t_array_SS[0::100], x_array_SS[0::100], 'b')\n",
    "plt.subplot(122)\n",
    "plt.semilogx(t_array_SS[0::100], np.subtract(omegatwid,x_array_SS[0::100]), 'k')"
   ]
  }
 ],
 "metadata": {
  "kernelspec": {
   "display_name": "Python 3",
   "language": "python",
   "name": "python3"
  },
  "language_info": {
   "codemirror_mode": {
    "name": "ipython",
    "version": 3
   },
   "file_extension": ".py",
   "mimetype": "text/x-python",
   "name": "python",
   "nbconvert_exporter": "python",
   "pygments_lexer": "ipython3",
   "version": "3.7.0"
  }
 },
 "nbformat": 4,
 "nbformat_minor": 1
}
